{
 "cells": [
  {
   "cell_type": "markdown",
   "id": "53395314",
   "metadata": {},
   "source": [
    "# Primer taller de termodinámica: 8-27-2021"
   ]
  },
  {
   "cell_type": "markdown",
   "id": "ae358982",
   "metadata": {},
   "source": [
    "## Instalación de Julia"
   ]
  },
  {
   "cell_type": "markdown",
   "id": "76e08462",
   "metadata": {},
   "source": [
    "Para descargar Julia lo pueden hacer desde la página: https://julialang.org/downloads/ , está disponible para Windows, Mac y Linux. En caso de contar con una distribución de Linux que tenga por defecto un \"Package Manager\", pueden intentar ejecutar el programa de obtención de paquetes + Julia, *i.e.* :\n",
    "\n",
    "#### sudo apt-get Julia\n",
    "\n",
    "Elegir correctamente la última versión estable correspondiente a su sistema operativo. A la fecha del presente taller, esta versión corresponde a: \n",
    "\n",
    "\"Current stable release: v1.6.2 (July 14, 2021)\"\n",
    "\n",
    "Una vez instalado, se podra accesar a la terminal de Julia desde el acceso directo en caso de haber creado uno o acceder desde la terminal en caso de encontrarse dentro de las variables de entorno del sistema, *i. e.* en CMD o terminal de linux/Mac ejecutar el comando:\n",
    "\n",
    "#### Julia\n",
    "\n",
    "En caso de necesitar buscar el programa, en windows se encuentra en la carpeta:\n",
    "\n",
    "#### C:\\Users\\\\*\\AppData\\Local\\Programs\\Julia-1.6.2\\bin\n",
    "\n",
    "donde \\* es el nombre de usuario de windows."
   ]
  },
  {
   "cell_type": "markdown",
   "id": "41502430",
   "metadata": {},
   "source": [
    "## Instalación de librerias externas"
   ]
  },
  {
   "cell_type": "markdown",
   "id": "82c7aedf",
   "metadata": {},
   "source": [
    "Para instalar cualquier librería externa de Julia necesitan acceder al ambiente de paquetes de Julia. Para ello, pueden hacerlo desde la terminal de julia oprimiendo la tecla o comando asociado al caracter \"]\". Una vez dentro del ambiente pueden agregar cualquier libreria ejecutando el comando\n",
    "\n",
    "#### add Xxxx\n",
    "\n",
    "Empecemos por agregar la libreria IJulia:\n",
    "\n",
    "#### add IJulia\n",
    "\n",
    "Para ejecutar la libreria, primero deben de cargarla a la sesion de Julia, para ello hay que regresar al ambiente de julia, lo cual se puede hacer con la tecla \"Backspace\". Una vez en el ambiente de Julia ejecutar el comando\n",
    "\n",
    "#### using IJulia\n",
    "\n",
    "Al cargar esta librería, se importan ciertas funciones al ambiente. Ahora haremos uso de la función notebook. Ejecutaremos esta función de la siguiente forma\n",
    "\n",
    "#### notebook(detached=true)\n",
    "\n",
    "Para ejecutar cualquier función, se escribe el nombre de la función y entre paréntesis los valores que puede recibir de entrada y/o salida. En este caso, detached es una variable booleana opcional que acepta falso o verdadero, el que sea opcional significa que no es necesaria para la ejecución del programa y la ponemos simplemente para tener acceso a la terminal al mismo tiempo que al ambiente de Jupyter.\n",
    "\n",
    "Esta función ejecutará Jupyter e instalará lo necesario la primera vez que se ejecute. Una vez que termine la ejecución, abrira una pestaña en su navegador principal el cual permitirá el uso de \"notebooks\" para programar en Julia. Dentro de Jupyter, pueden navegar a traves de los archivos de su computadora para poder abrir este notebook y ejecutaro las celdas y comandos que contiene. A si mismo, pueden crear nuevos notebooks para tener un ambiente amigable en donde programar, probar código y escribir sus propias notas.\n",
    "\n",
    "Otra forma de instalar paquetes sin entrar al ambiente de \"Package\" es importando las funciones internas de la librería. Una vez importada la librería, uno puede acceder a cualquier función de esta librería escribiendo \"Libreria.funcion()\"\n",
    "\n",
    "En la siguiente celda se encuentra un ejemplo en el cual se instala la librería de Plots que posteriormente será utilizada. \n",
    "\n",
    "Nota: Si ya tienes instalado plots no es necesario volver a correr esta celda. En caso de querer actualizar la lista de librerias, solo necesitas correr \"update\" en el entorno de paquetes o en su defecto, dicha funcion en el entorno de julia."
   ]
  },
  {
   "cell_type": "code",
   "execution_count": null,
   "id": "cbff4c11",
   "metadata": {},
   "outputs": [],
   "source": [
    "import Pkg\n",
    "Pkg.add(\"Plots\")\n"
   ]
  },
  {
   "cell_type": "markdown",
   "id": "c189fbe1",
   "metadata": {},
   "source": [
    "Para utilizarla es al igual que en el entorno:"
   ]
  },
  {
   "cell_type": "code",
   "execution_count": null,
   "id": "c2d6aa01",
   "metadata": {},
   "outputs": [],
   "source": [
    "using Plots"
   ]
  },
  {
   "cell_type": "markdown",
   "id": "8a4ce058",
   "metadata": {},
   "source": [
    "## Variables\n",
    "\n",
    "Julia es un lenguaje cuya estructura básica está basado en la construcción y uso de funciones, donde una función es, en general, algo que recibe información de entrada y da información de salida. Esta información es descrita por variables las cuales se dividen en diferentes conjuntos. La explicación a fondo la pueden encontrar en el enlace: https://docs.julialang.org/en/v1/manual/types/\n",
    "\n",
    "Por ahora sólo haremos uso de variables de tipo flotantes y enteras, pero el lenguaje proporciona todo para la posibilidad de crear estructuras de datos únicas para problemas específicos, básicamente pensando en teoría de conjuntos, lo cual permite por ejemplo, trabajar en una programación orientada a \"objetos\" donde uno puede definir las características de un \"objeto\" y las operaciones que son permitibles a este objeto.\n",
    "\n",
    "No obstante, a diferencia de otros lenguajes de programación, en Julia no es necesario predefinir el tipo de variable que se está utilizando. Esto puede tener como resultado la programación en términos de tipos genéricos abstractos donde las operaciones/funciones se realizan siempre y cuando estén definidas para las variables de entrada. Por otro lado, permite la definición de diferentes funciones bajo el mismo nombre para diferentes tipos de variables. Por ejemplo, la operación multiplicar denotada por \"\\*\" es aplicable entre flotantes y entre matrices de flotantes (m x m')\\*(m'x n) = m x n"
   ]
  },
  {
   "cell_type": "code",
   "execution_count": null,
   "id": "80c8962c",
   "metadata": {},
   "outputs": [],
   "source": [
    "5.0*10.0 "
   ]
  },
  {
   "cell_type": "code",
   "execution_count": null,
   "id": "3d60ead3",
   "metadata": {},
   "outputs": [],
   "source": [
    "A=[1.0 2.0 ; 3 4]"
   ]
  },
  {
   "cell_type": "code",
   "execution_count": null,
   "id": "15a532d2",
   "metadata": {},
   "outputs": [],
   "source": [
    "B=[ 5; 6]"
   ]
  },
  {
   "cell_type": "code",
   "execution_count": null,
   "id": "e5a2f950",
   "metadata": {},
   "outputs": [],
   "source": [
    "C=A*B"
   ]
  },
  {
   "cell_type": "markdown",
   "id": "f5e69906",
   "metadata": {},
   "source": [
    "Notese que la matriz B está definida a partir de entradas enteras. Internamente el operador multiplicación termina promoviendo estas variables enteras a variables flotantes y el resultado es un vector columna flotante de 2x1"
   ]
  },
  {
   "cell_type": "markdown",
   "id": "86959754",
   "metadata": {},
   "source": [
    "## Funciones"
   ]
  },
  {
   "cell_type": "markdown",
   "id": "1fdf3d71",
   "metadata": {},
   "source": [
    "Julia cuenta con una gran diversidad de implementaciones de funciones internas, que van desde suma y resta hasta operaciones exponenciacion matriciales, operdores booleanos y de caracteres. El conjunto de operaciones y funciones matematicas en la base de julia las pueden encontrar en el enlace: https://docs.julialang.org/en/v1/base/math/, aunado a estos a un lado se encuentra la documentación de tipos de datos y funciones para caracteres entre otras cosas.\n",
    "\n",
    "Para la definición de funciones dentro de Julia, existen varias formas cuya documentación pueden encontrar en: https://docs.julialang.org/en/v1/manual/functions/\n",
    "\n",
    "En esta sesión adoptaremos la forma \"completa\" de escribirlas, por ejemplo supongamos que queremos una función que regrese el cuadrado de una variable $x$, para ello definimos una función\n",
    "\n",
    "foo$(x)=x^2$\n",
    "\n",
    "como:"
   ]
  },
  {
   "cell_type": "code",
   "execution_count": null,
   "id": "2fc73601",
   "metadata": {},
   "outputs": [],
   "source": [
    "function foo(x)\n",
    "   x^2 \n",
    "end"
   ]
  },
  {
   "cell_type": "markdown",
   "id": "db44804b",
   "metadata": {},
   "source": [
    "La evaluación de esta función da como resultado el cuadrado de esta variable, por ejemplo:"
   ]
  },
  {
   "cell_type": "code",
   "execution_count": null,
   "id": "294144ed",
   "metadata": {},
   "outputs": [],
   "source": [
    "println(foo(\"hola\"))\n",
    "println(foo(2))\n",
    "println(foo(2.0))\n",
    "println(foo(A))"
   ]
  },
  {
   "cell_type": "markdown",
   "id": "c231984c",
   "metadata": {},
   "source": [
    "Donde el operador multiplicación para caracteres está definido como una concatenación de caracteres, el cuadrado de un entero es el cuadrado numérico, lo mismo para un flotante y donde el cuadrado de una matriz es la multiplicación de esta misma matriz siempre y cuando sea una matriz cuadrada. Si la operación no está definida para una variable, por ejemplo para un vector renglón como lo es $B$, la compilación de la función se quejará diciendo que no existe el método para elevar al cuadrado este tipo de dato."
   ]
  },
  {
   "cell_type": "code",
   "execution_count": null,
   "id": "60904735",
   "metadata": {},
   "outputs": [],
   "source": [
    "foo(B)"
   ]
  },
  {
   "cell_type": "markdown",
   "id": "534703e7",
   "metadata": {},
   "source": [
    "Esto quiere decir que se debe de crear un método para la función foo que pueda correr cuando la entrada sea un vector, o bien, modificar internamente el operador multiplicación entre vectores (algo poco recomendable). Por ejemplo, digamos que cuando se quiera llamar a la función con un vector, la salida específica que queremos es el producto interno del mismo vector \n",
    "\n",
    "foo$(V)= V\\cdot V$\n",
    "\n",
    "esto se puede hacer parametrizando la variable de entrada a un tipo específico, creando así dos métodos para la función foo, uno genérico y uno concreto que intentará hacer cuando el tipo de variable corresponda a un vector "
   ]
  },
  {
   "cell_type": "code",
   "execution_count": null,
   "id": "eb9aa428",
   "metadata": {},
   "outputs": [],
   "source": [
    "function foo(x::Vector)\n",
    "    return sum(x .* x)\n",
    "end "
   ]
  },
  {
   "cell_type": "code",
   "execution_count": null,
   "id": "2988d7f1",
   "metadata": {},
   "outputs": [],
   "source": [
    "println(foo(A))\n",
    "println(foo(B))"
   ]
  },
  {
   "cell_type": "markdown",
   "id": "07d8dfb3",
   "metadata": {},
   "source": [
    "En este ejemplo se ha hecho uso del operador Broadcast denotado como \".\". Este operador afecta a la operación a su derecha diciendo que actue \"elemento a elemento  siempre que exista un índice por el cuál correr en una estructura de datos. Un esquema más clásico de programar dicha operación sería encontrar la longitud del vector, por ejemplo a través de la función base \"length()\" y correr sobre los elementos del vector la operación multiplicación, guardando su suma en alguna variable. \n",
    "\n",
    "Enseguida utilizaremos lo aprendido para generar las ecuaciones de estado vistas en clases y a su vez se explicaran ciertas técnicas de programación específica que simplifican la obtención de los resultados."
   ]
  },
  {
   "cell_type": "markdown",
   "id": "1cf417ad",
   "metadata": {},
   "source": [
    "## Ecuaciones de estado de gases"
   ]
  },
  {
   "cell_type": "markdown",
   "id": "1b50c8ba",
   "metadata": {},
   "source": [
    "En esta sesión crearemos una función para la ecuación de estado mecánica de gases, utilizando como ejemplo la ecuación de estado de un gas ideal y dejando como ejercicio el acompletar la ecuación de estado de Van der Waals.\n",
    "\n",
    "La ecuación de estado mecánica de un gas ideal puede escribirse como:\n",
    "\n",
    "$P V =N k_B T$\n",
    "\n",
    "donde $P$ es la presión, $V$ el volumen, $N$ el número de partículas, $k_B$ la constante de Boltzmann y $T$ la temperatura en unidades absolutas del sistema.\n",
    "\n",
    "Escribiendo la presión como función de las otras variables termodinámicas:\n",
    "\n",
    "$P=P(V,N,T)$\n",
    "\n",
    "por lo que queda:\n",
    "\n",
    "$P =N k_B T/ V$\n",
    "\n",
    "la cual podemos definir en julia como:"
   ]
  },
  {
   "cell_type": "code",
   "execution_count": null,
   "id": "09d71615",
   "metadata": {},
   "outputs": [],
   "source": [
    "function Pᵢ(V,N,T;kB=1.38064852E-23)\n",
    "   return N * kB * T / V \n",
    "end"
   ]
  },
  {
   "cell_type": "markdown",
   "id": "d8f29ad9",
   "metadata": {},
   "source": [
    "en donde la constante de Boltzmann está fijada por el valor opcional de $k_B=1.38064852E-23J/K$ . Una vez definida, podemos evaluar la función por ejemplo para un mol de partículas a 25°C y 22 litros de volumen:"
   ]
  },
  {
   "cell_type": "code",
   "execution_count": null,
   "id": "1eefd08e",
   "metadata": {},
   "outputs": [],
   "source": [
    "V=0.022\n",
    "N=6.022E23\n",
    "T=298.15\n",
    "Pᵢ(V,N,T)"
   ]
  },
  {
   "cell_type": "markdown",
   "id": "fce4df16",
   "metadata": {},
   "source": [
    "Una vez definida esta función podremos obtener los datos y graficarlos mediante el uso de algun graficador. En este ejemplo usaremos la función \"plot()\" de plots. Para ello haremos uso de una función anónima la cuál sólo va a depender de la variable que queramos sea independiente, por ejemplo $V$. Definimos esta función anónima simplemente como\n",
    "\n",
    "V->Pᵢ(V,N,T)\n",
    "\n",
    "en donde fijamos N y T previamente como constantes, de esta forma se define una función nueva sin nombre que utilizaremos sobre plots que depende sólo de V. Una vez definida la función que se quiere graficar sólo es necesario agregar los rangos en donde se desea graficar. Para mayor información sobre el uso de la función plot() vea el manual de la librería: http://docs.juliaplots.org/latest/\n",
    "\n",
    "\n",
    "\n",
    "Nota: Internamente siempre que una función esté propiamente documentada, uno puede acceder a una ayuda rápida del funcionamiento de la función mediante:\n",
    "\n",
    "?xxx()\n",
    "\n",
    "por ejemplo\n",
    "\n",
    "?plot()\n"
   ]
  },
  {
   "cell_type": "code",
   "execution_count": null,
   "id": "17ab7fa8",
   "metadata": {},
   "outputs": [],
   "source": [
    "N=6.022E23\n",
    "T=298.15\n",
    "plot(V->Pᵢ(V,N,T),1E-3,1E-1,xlabel=\"m^3\",ylabel=\"Pa\",label=\"298.15k\")"
   ]
  },
  {
   "cell_type": "markdown",
   "id": "5e938470",
   "metadata": {},
   "source": [
    "Asi mismo, si uno quisiera definir la función para la presión de la ecuación de estado de Van der Waals:\n",
    "\n",
    "$(P+ \\frac{N^2 a}{V^2})(\\frac{V}{N}-b)=k_B T$\n",
    "\n",
    "uno puede despejar la presión $P^*=Pb^2/a$ de tal forma que obtiene:\n",
    "\n",
    "$P^*=\\frac{b^2Nk_B T}{a(V-Nb)}  - \\frac{N^2b^2}{V^2}$\n",
    "\n",
    "### Ejercicios\n",
    "\n",
    "(1) Definiendo $v'= V/Nb$ y $T'=bk_B T/ a$ tenemos que:\n",
    "\n",
    "...\n",
    "\n",
    "(2) Programar la ecuación resultante $P'(v',T')$ de (1)\n",
    "\n",
    "(3)¿Qué valores son físicamente aceptables para $v'$ y para $T'$?\n",
    "\n",
    "(4) Grafique la presión contra el volumen para tres temperaturas, $T'=16/27$, $8/27$ y $4/27$ en un rango de $v'\\in[1.5:5]$. ¿Qué diferencias encuentran entre estas isotermas? Imagina que los resultados de estas isotermas son productos de un experimento pensado, narre lo que pasaría con cada isoterma al ir incrementando el volumen disponible por partícula."
   ]
  },
  {
   "cell_type": "code",
   "execution_count": null,
   "id": "23620409",
   "metadata": {},
   "outputs": [],
   "source": []
  },
  {
   "cell_type": "code",
   "execution_count": null,
   "id": "954fd802",
   "metadata": {},
   "outputs": [],
   "source": []
  }
 ],
 "metadata": {
  "@webio": {
   "lastCommId": null,
   "lastKernelId": null
  },
  "kernelspec": {
   "display_name": "Julia 1.6.2",
   "language": "julia",
   "name": "julia-1.6"
  },
  "language_info": {
   "file_extension": ".jl",
   "mimetype": "application/julia",
   "name": "julia",
   "version": "1.6.2"
  }
 },
 "nbformat": 4,
 "nbformat_minor": 5
}
