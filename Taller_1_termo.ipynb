{
 "cells": [
  {
   "cell_type": "markdown",
   "id": "53395314",
   "metadata": {},
   "source": [
    "# Primer taller de termodinámica: 8-27-2021"
   ]
  },
  {
   "cell_type": "markdown",
   "id": "ae358982",
   "metadata": {},
   "source": [
    "## Instalación de Julia"
   ]
  },
  {
   "cell_type": "markdown",
   "id": "76e08462",
   "metadata": {},
   "source": [
    "Para descargar Julia lo pueden hacer desde la página: https://julialang.org/downloads/ , está disponible para Windows, Mac y Linux. En caso de contar con una distribución de Linux que tenga por defecto un \"Package Manager\", pueden intentar ejecutar el programa de obtención de paquetes + Julia, *i.e.* :\n",
    "\n",
    "#### sudo apt-get Julia\n",
    "\n",
    "Elegir correctamente la última versión estable correspondiente a su sistema operativo. A la fecha del presente taller, esta versión corresponde a: \n",
    "\n",
    "\"Current stable release: v1.6.2 (July 14, 2021)\"\n",
    "\n",
    "Una vez instalado, se podra accesar a la terminal de Julia desde el acceso directo en caso de haber creado uno o acceder desde la terminal en caso de encontrarse dentro de las variables de entorno del sistema, *i. e.* en CMD o terminal de linux/Mac ejecutar el comando:\n",
    "\n",
    "#### Julia\n",
    "\n",
    "En caso de necesitar buscar el programa, en windows se encuentra en la carpeta:\n",
    "\n",
    "#### C:\\Users\\\\*\\AppData\\Local\\Programs\\Julia-1.6.2\\bin\n",
    "\n",
    "donde \\* es el nombre de usuario de windows."
   ]
  },
  {
   "cell_type": "markdown",
   "id": "41502430",
   "metadata": {},
   "source": [
    "## Instalación de librerias externas"
   ]
  },
  {
   "cell_type": "markdown",
   "id": "82c7aedf",
   "metadata": {},
   "source": [
    "Para instalar cualquier librería externa de Julia necesitan acceder al ambiente de paquetes de Julia. Para ello, pueden hacerlo desde la terminal de julia oprimiendo la tecla o comando asociado al caracter \"]\". Una vez dentro del ambiente pueden agregar cualquier libreria ejecutando el comando\n",
    "\n",
    "#### add Xxxx\n",
    "\n",
    "Empecemos por agregar la libreria IJulia:\n",
    "\n",
    "#### add IJulia\n",
    "\n",
    "Para ejecutar la libreria, primero deben de cargarla a la sesion de Julia, para ello hay que regresar al ambiente de julia, lo cual se puede hacer con la tecla \"Backspace\". Una vez en el ambiente de Julia ejecutar el comando\n",
    "\n",
    "#### using IJulia\n",
    "\n",
    "Al cargar esta librería, se importan ciertas funciones al ambiente. Ahora haremos uso de la función notebook. Ejecutaremos esta función de la siguiente forma\n",
    "\n",
    "#### notebook(detached=true)\n",
    "\n",
    "Para ejecutar cualquier función, se escribe el nombre de la función y entre paréntesis los valores que puede recibir de entrada y/o salida. En este caso, detached es una variable booleana opcional que acepta falso o verdadero, el que sea opcional significa que no es necesaria para la ejecución del programa y la ponemos simplemente para tener acceso a la terminal al mismo tiempo que al ambiente de Jupyter.\n",
    "\n",
    "Esta función ejecutará Jupyter e instalará lo necesario la primera vez que se ejecute. Una vez que termine la ejecución, abrira una pestaña en su navegador principal el cual permitirá el uso de \"notebooks\" para programar en Julia. Dentro de Jupyter, pueden navegar a traves de los archivos de su computadora para poder abrir este notebook y ejecutaro las celdas y comandos que contiene. A si mismo, pueden crear nuevos notebooks para tener un ambiente amigable en donde programar, probar código y escribir sus propias notas.\n",
    "\n",
    "Otra forma de instalar paquetes sin entrar al ambiente de \"Package\" es importando las funciones internas de la librería. Una vez importada la librería, uno puede acceder a cualquier función de esta librería escribiendo \"Libreria.funcion()\"\n",
    "\n",
    "En la siguiente celda se encuentra un ejemplo en el cual se instala la librería de Plots que posteriormente será utilizada. \n",
    "\n",
    "Nota: Si ya tienes instalado plots no es necesario volver a correr esta celda. En caso de querer actualizar la lista de librerias, solo necesitas correr \"update\" en el entorno de paquetes o en su defecto, dicha funcion en el entorno de julia."
   ]
  },
  {
   "cell_type": "code",
   "execution_count": null,
   "id": "cbff4c11",
   "metadata": {},
   "outputs": [],
   "source": [
    "import Pkg\n",
    "Pkg.add(\"Plots\")\n"
   ]
  },
  {
   "cell_type": "markdown",
   "id": "c189fbe1",
   "metadata": {},
   "source": [
    "Para utilizarla es al igual que en el entorno:"
   ]
  },
  {
   "cell_type": "code",
   "execution_count": 1,
   "id": "c2d6aa01",
   "metadata": {},
   "outputs": [],
   "source": [
    "using Plots"
   ]
  },
  {
   "cell_type": "markdown",
   "id": "8a4ce058",
   "metadata": {},
   "source": [
    "## Variables\n",
    "\n",
    "Julia es un lenguaje cuya estructura básica está basado en la construcción y uso de funciones, donde una función es, en general, algo que recibe información de entrada y da información de salida. Esta información es descrita por variables las cuales se dividen en diferentes conjuntos. La explicación a fondo la pueden encontrar en el enlace: https://docs.julialang.org/en/v1/manual/types/\n",
    "\n",
    "Por ahora sólo haremos uso de variables de tipo flotantes y enteras, pero el lenguaje proporciona todo para la posibilidad de crear estructuras de datos únicas para problemas específicos, básicamente pensando en teoría de conjuntos, lo cual permite por ejemplo, trabajar en una programación orientada a \"objetos\" donde uno puede definir las características de un \"objeto\" y las operaciones que son permitibles a este objeto.\n",
    "\n",
    "No obstante, a diferencia de otros lenguajes de programación, en Julia no es necesario predefinir el tipo de variable que se está utilizando. Esto puede tener como resultado la programación en términos de tipos genéricos abstractos donde las operaciones/funciones se realizan siempre y cuando estén definidas para las variables de entrada. Por otro lado, permite la definición de diferentes funciones bajo el mismo nombre para diferentes tipos de variables. Por ejemplo, la operación multiplicar denotada por \"\\*\" es aplicable entre flotantes y entre matrices de flotantes (m x m')\\*(m'x n) = m x n"
   ]
  },
  {
   "cell_type": "code",
   "execution_count": 2,
   "id": "80c8962c",
   "metadata": {},
   "outputs": [
    {
     "data": {
      "text/plain": [
       "50.0"
      ]
     },
     "execution_count": 2,
     "metadata": {},
     "output_type": "execute_result"
    }
   ],
   "source": [
    "5.0*10.0 "
   ]
  },
  {
   "cell_type": "code",
   "execution_count": 3,
   "id": "3d60ead3",
   "metadata": {},
   "outputs": [
    {
     "data": {
      "text/plain": [
       "2×2 Matrix{Float64}:\n",
       " 1.0  2.0\n",
       " 3.0  4.0"
      ]
     },
     "execution_count": 3,
     "metadata": {},
     "output_type": "execute_result"
    }
   ],
   "source": [
    "A=[1.0 2.0 ; 3 4]"
   ]
  },
  {
   "cell_type": "code",
   "execution_count": 4,
   "id": "15a532d2",
   "metadata": {},
   "outputs": [
    {
     "data": {
      "text/plain": [
       "2-element Vector{Int64}:\n",
       " 5\n",
       " 6"
      ]
     },
     "execution_count": 4,
     "metadata": {},
     "output_type": "execute_result"
    }
   ],
   "source": [
    "B=[ 5; 6]"
   ]
  },
  {
   "cell_type": "code",
   "execution_count": 5,
   "id": "e5a2f950",
   "metadata": {},
   "outputs": [
    {
     "data": {
      "text/plain": [
       "2-element Vector{Float64}:\n",
       " 17.0\n",
       " 39.0"
      ]
     },
     "execution_count": 5,
     "metadata": {},
     "output_type": "execute_result"
    }
   ],
   "source": [
    "C=A*B"
   ]
  },
  {
   "cell_type": "markdown",
   "id": "f5e69906",
   "metadata": {},
   "source": [
    "Notese que la matriz B está definida a partir de entradas enteras. Internamente el operador multiplicación termina promoviendo estas variables enteras a variables flotantes y el resultado es un vector columna flotante de 2x1"
   ]
  },
  {
   "cell_type": "markdown",
   "id": "86959754",
   "metadata": {},
   "source": [
    "## Funciones"
   ]
  },
  {
   "cell_type": "markdown",
   "id": "1fdf3d71",
   "metadata": {},
   "source": [
    "Julia cuenta con una gran diversidad de implementaciones de funciones internas, que van desde suma y resta hasta operaciones exponenciacion matriciales, operdores booleanos y de caracteres. El conjunto de operaciones y funciones matematicas en la base de julia las pueden encontrar en el enlace: https://docs.julialang.org/en/v1/base/math/, aunado a estos a un lado se encuentra la documentación de tipos de datos y funciones para caracteres entre otras cosas.\n",
    "\n",
    "Para la definición de funciones dentro de Julia, existen varias formas cuya documentación pueden encontrar en: https://docs.julialang.org/en/v1/manual/functions/\n",
    "\n",
    "En esta sesión adoptaremos la forma \"completa\" de escribirlas, por ejemplo supongamos que queremos una función que regrese el cuadrado de una variable $x$, para ello definimos una función\n",
    "\n",
    "foo$(x)=x^2$\n",
    "\n",
    "como:"
   ]
  },
  {
   "cell_type": "code",
   "execution_count": 6,
   "id": "2fc73601",
   "metadata": {},
   "outputs": [
    {
     "data": {
      "text/plain": [
       "foo (generic function with 1 method)"
      ]
     },
     "execution_count": 6,
     "metadata": {},
     "output_type": "execute_result"
    }
   ],
   "source": [
    "function foo(x)\n",
    "   x^2 \n",
    "end"
   ]
  },
  {
   "cell_type": "markdown",
   "id": "db44804b",
   "metadata": {},
   "source": [
    "La evaluación de esta función da como resultado el cuadrado de esta variable, por ejemplo:"
   ]
  },
  {
   "cell_type": "code",
   "execution_count": 7,
   "id": "294144ed",
   "metadata": {},
   "outputs": [
    {
     "name": "stdout",
     "output_type": "stream",
     "text": [
      "holahola\n",
      "4\n",
      "4.0\n",
      "[7.0 10.0; 15.0 22.0]\n"
     ]
    }
   ],
   "source": [
    "println(foo(\"hola\"))\n",
    "println(foo(2))\n",
    "println(foo(2.0))\n",
    "println(foo(A))"
   ]
  },
  {
   "cell_type": "markdown",
   "id": "c231984c",
   "metadata": {},
   "source": [
    "Donde el operador multiplicación para caracteres está definido como una concatenación de caracteres, el cuadrado de un entero es el cuadrado numérico, lo mismo para un flotante y donde el cuadrado de una matriz es la multiplicación de esta misma matriz siempre y cuando sea una matriz cuadrada. Si la operación no está definida para una variable, por ejemplo para un vector renglón como lo es $B$, la compilación de la función se quejará diciendo que no existe el método para elevar al cuadrado este tipo de dato."
   ]
  },
  {
   "cell_type": "code",
   "execution_count": 8,
   "id": "60904735",
   "metadata": {},
   "outputs": [
    {
     "ename": "LoadError",
     "evalue": "MethodError: no method matching ^(::Vector{Int64}, ::Int64)\n\u001b[0mClosest candidates are:\n\u001b[0m  ^(\u001b[91m::Union{AbstractChar, AbstractString}\u001b[39m, ::Integer) at strings/basic.jl:718\n\u001b[0m  ^(\u001b[91m::Complex{var\"#s79\"} where var\"#s79\"<:AbstractFloat\u001b[39m, ::Integer) at complex.jl:818\n\u001b[0m  ^(\u001b[91m::Complex{var\"#s79\"} where var\"#s79\"<:Integer\u001b[39m, ::Integer) at complex.jl:820\n\u001b[0m  ...",
     "output_type": "error",
     "traceback": [
      "MethodError: no method matching ^(::Vector{Int64}, ::Int64)\n\u001b[0mClosest candidates are:\n\u001b[0m  ^(\u001b[91m::Union{AbstractChar, AbstractString}\u001b[39m, ::Integer) at strings/basic.jl:718\n\u001b[0m  ^(\u001b[91m::Complex{var\"#s79\"} where var\"#s79\"<:AbstractFloat\u001b[39m, ::Integer) at complex.jl:818\n\u001b[0m  ^(\u001b[91m::Complex{var\"#s79\"} where var\"#s79\"<:Integer\u001b[39m, ::Integer) at complex.jl:820\n\u001b[0m  ...",
      "",
      "Stacktrace:",
      " [1] macro expansion",
      "   @ .\\none:0 [inlined]",
      " [2] literal_pow",
      "   @ .\\none:0 [inlined]",
      " [3] foo(x::Vector{Int64})",
      "   @ Main .\\In[6]:2",
      " [4] top-level scope",
      "   @ In[8]:1",
      " [5] eval",
      "   @ .\\boot.jl:360 [inlined]",
      " [6] include_string(mapexpr::typeof(REPL.softscope), mod::Module, code::String, filename::String)",
      "   @ Base .\\loading.jl:1116"
     ]
    }
   ],
   "source": [
    "foo(B)"
   ]
  },
  {
   "cell_type": "markdown",
   "id": "534703e7",
   "metadata": {},
   "source": [
    "Esto quiere decir que se debe de crear un método para la función foo que pueda correr cuando la entrada sea un vector, o bien, modificar internamente el operador multiplicación entre vectores (algo poco recomendable). Por ejemplo, digamos que cuando se quiera llamar a la función con un vector, la salida específica que queremos es el producto interno del mismo vector \n",
    "\n",
    "foo$(V)= V\\cdot V$\n",
    "\n",
    "esto se puede hacer parametrizando la variable de entrada a un tipo específico, creando así dos métodos para la función foo, uno genérico y uno concreto que intentará hacer cuando el tipo de variable corresponda a un vector \n",
    "\n",
    "$V=(v1,v2,v3)$\n",
    "\n",
    "$V\\cdot V= v1^2+v2^2+v3^2$\n"
   ]
  },
  {
   "cell_type": "code",
   "execution_count": 9,
   "id": "eb9aa428",
   "metadata": {},
   "outputs": [
    {
     "data": {
      "text/plain": [
       "foo (generic function with 2 methods)"
      ]
     },
     "execution_count": 9,
     "metadata": {},
     "output_type": "execute_result"
    }
   ],
   "source": [
    "function foo(x::Vector)\n",
    "    return sum(x .* x)\n",
    "end "
   ]
  },
  {
   "cell_type": "code",
   "execution_count": 10,
   "id": "2988d7f1",
   "metadata": {},
   "outputs": [
    {
     "name": "stdout",
     "output_type": "stream",
     "text": [
      "[7.0 10.0; 15.0 22.0]\n",
      "61\n"
     ]
    }
   ],
   "source": [
    "println(foo(A))\n",
    "println(foo(B))"
   ]
  },
  {
   "cell_type": "markdown",
   "id": "07d8dfb3",
   "metadata": {},
   "source": [
    "En este ejemplo se ha hecho uso del operador Broadcast denotado como \".\". Este operador afecta a la operación a su derecha diciendo que actue \"elemento a elemento  siempre que exista un índice por el cuál correr en una estructura de datos. Un esquema más clásico de programar dicha operación sería encontrar la longitud del vector, por ejemplo a través de la función base \"length()\" y correr sobre los elementos del vector la operación multiplicación, guardando su suma en alguna variable. \n",
    "\n",
    "Enseguida utilizaremos lo aprendido para generar las ecuaciones de estado vistas en clases y a su vez se explicaran ciertas técnicas de programación específica que simplifican la obtención de los resultados."
   ]
  },
  {
   "cell_type": "markdown",
   "id": "1cf417ad",
   "metadata": {},
   "source": [
    "## Ecuaciones de estado de gases"
   ]
  },
  {
   "cell_type": "markdown",
   "id": "1b50c8ba",
   "metadata": {},
   "source": [
    "En esta sesión crearemos una función para la ecuación de estado mecánica de gases, utilizando como ejemplo la ecuación de estado de un gas ideal y dejando como ejercicio el acompletar la ecuación de estado de Van der Waals.\n",
    "\n",
    "La ecuación de estado mecánica de un gas ideal puede escribirse como:\n",
    "\n",
    "$P V =N k_B T$\n",
    "\n",
    "donde $P$ es la presión, $V$ el volumen, $N$ el número de partículas, $k_B$ la constante de Boltzmann y $T$ la temperatura en unidades absolutas del sistema.\n",
    "\n",
    "Escribiendo la presión como función de las otras variables termodinámicas:\n",
    "\n",
    "$P=P(V,N,T)$\n",
    "\n",
    "por lo que queda:\n",
    "\n",
    "$P =N k_B T/ V$\n",
    "\n",
    "la cual podemos definir en julia como:"
   ]
  },
  {
   "cell_type": "code",
   "execution_count": 11,
   "id": "09d71615",
   "metadata": {},
   "outputs": [
    {
     "data": {
      "text/plain": [
       "Pᵢ (generic function with 1 method)"
      ]
     },
     "execution_count": 11,
     "metadata": {},
     "output_type": "execute_result"
    }
   ],
   "source": [
    "function Pᵢ(V,N,T;kB=1.38064852E-23)\n",
    "   return N * kB * T / V \n",
    "end"
   ]
  },
  {
   "cell_type": "markdown",
   "id": "d8f29ad9",
   "metadata": {},
   "source": [
    "en donde la constante de Boltzmann está fijada por el valor opcional de $k_B=1.38064852E-23J/K$ . Una vez definida, podemos evaluar la función por ejemplo para un mol de partículas a 25°C y 22 litros de volumen:"
   ]
  },
  {
   "cell_type": "code",
   "execution_count": 12,
   "id": "1eefd08e",
   "metadata": {},
   "outputs": [
    {
     "data": {
      "text/plain": [
       "112677.1920575107"
      ]
     },
     "execution_count": 12,
     "metadata": {},
     "output_type": "execute_result"
    }
   ],
   "source": [
    "V=0.022\n",
    "N=6.022E23\n",
    "T=298.15\n",
    "Pᵢ(V,N,T)"
   ]
  },
  {
   "cell_type": "markdown",
   "id": "fce4df16",
   "metadata": {},
   "source": [
    "Una vez definida esta función podremos obtener los datos y graficarlos mediante el uso de algun graficador. En este ejemplo usaremos la función \"plot()\" de plots. Para ello haremos uso de una función anónima la cuál sólo va a depender de la variable que queramos sea independiente, por ejemplo $V$. Definimos esta función anónima simplemente como\n",
    "\n",
    "V->Pᵢ(V,N,T)\n",
    "\n",
    "en donde fijamos N y T previamente como constantes, de esta forma se define una función nueva sin nombre que utilizaremos sobre plots que depende sólo de V. Una vez definida la función que se quiere graficar sólo es necesario agregar los rangos en donde se desea graficar. Para mayor información sobre el uso de la función plot() vea el manual de la librería: http://docs.juliaplots.org/latest/\n",
    "\n",
    "\n",
    "\n",
    "Nota: Internamente siempre que una función esté propiamente documentada, uno puede acceder a una ayuda rápida del funcionamiento de la función mediante:\n",
    "\n",
    "?xxx()\n",
    "\n",
    "por ejemplo\n",
    "\n",
    "?plot()\n"
   ]
  },
  {
   "cell_type": "code",
   "execution_count": 13,
   "id": "17ab7fa8",
   "metadata": {},
   "outputs": [
    {
     "data": {
      "image/svg+xml": [
       "<?xml version=\"1.0\" encoding=\"utf-8\"?>\n",
       "<svg xmlns=\"http://www.w3.org/2000/svg\" xmlns:xlink=\"http://www.w3.org/1999/xlink\" width=\"600\" height=\"400\" viewBox=\"0 0 2400 1600\">\n",
       "<defs>\n",
       "  <clipPath id=\"clip040\">\n",
       "    <rect x=\"0\" y=\"0\" width=\"2400\" height=\"1600\"/>\n",
       "  </clipPath>\n",
       "</defs>\n",
       "<path clip-path=\"url(#clip040)\" d=\"\n",
       "M0 1600 L2400 1600 L2400 0 L0 0  Z\n",
       "  \" fill=\"#ffffff\" fill-rule=\"evenodd\" fill-opacity=\"1\"/>\n",
       "<defs>\n",
       "  <clipPath id=\"clip041\">\n",
       "    <rect x=\"480\" y=\"0\" width=\"1681\" height=\"1600\"/>\n",
       "  </clipPath>\n",
       "</defs>\n",
       "<path clip-path=\"url(#clip040)\" d=\"\n",
       "M368.631 1423.18 L2352.76 1423.18 L2352.76 47.2441 L368.631 47.2441  Z\n",
       "  \" fill=\"#ffffff\" fill-rule=\"evenodd\" fill-opacity=\"1\"/>\n",
       "<defs>\n",
       "  <clipPath id=\"clip042\">\n",
       "    <rect x=\"368\" y=\"47\" width=\"1985\" height=\"1377\"/>\n",
       "  </clipPath>\n",
       "</defs>\n",
       "<polyline clip-path=\"url(#clip042)\" style=\"stroke:#000000; stroke-linecap:butt; stroke-linejoin:round; stroke-width:2; stroke-opacity:0.1; fill:none\" points=\"\n",
       "  405.879,1423.18 405.879,47.2441 \n",
       "  \"/>\n",
       "<polyline clip-path=\"url(#clip042)\" style=\"stroke:#000000; stroke-linecap:butt; stroke-linejoin:round; stroke-width:2; stroke-opacity:0.1; fill:none\" points=\"\n",
       "  878.559,1423.18 878.559,47.2441 \n",
       "  \"/>\n",
       "<polyline clip-path=\"url(#clip042)\" style=\"stroke:#000000; stroke-linecap:butt; stroke-linejoin:round; stroke-width:2; stroke-opacity:0.1; fill:none\" points=\"\n",
       "  1351.24,1423.18 1351.24,47.2441 \n",
       "  \"/>\n",
       "<polyline clip-path=\"url(#clip042)\" style=\"stroke:#000000; stroke-linecap:butt; stroke-linejoin:round; stroke-width:2; stroke-opacity:0.1; fill:none\" points=\"\n",
       "  1823.92,1423.18 1823.92,47.2441 \n",
       "  \"/>\n",
       "<polyline clip-path=\"url(#clip042)\" style=\"stroke:#000000; stroke-linecap:butt; stroke-linejoin:round; stroke-width:2; stroke-opacity:0.1; fill:none\" points=\"\n",
       "  2296.6,1423.18 2296.6,47.2441 \n",
       "  \"/>\n",
       "<polyline clip-path=\"url(#clip040)\" style=\"stroke:#000000; stroke-linecap:butt; stroke-linejoin:round; stroke-width:4; stroke-opacity:1; fill:none\" points=\"\n",
       "  368.631,1423.18 2352.76,1423.18 \n",
       "  \"/>\n",
       "<polyline clip-path=\"url(#clip040)\" style=\"stroke:#000000; stroke-linecap:butt; stroke-linejoin:round; stroke-width:4; stroke-opacity:1; fill:none\" points=\"\n",
       "  405.879,1423.18 405.879,1404.28 \n",
       "  \"/>\n",
       "<polyline clip-path=\"url(#clip040)\" style=\"stroke:#000000; stroke-linecap:butt; stroke-linejoin:round; stroke-width:4; stroke-opacity:1; fill:none\" points=\"\n",
       "  878.559,1423.18 878.559,1404.28 \n",
       "  \"/>\n",
       "<polyline clip-path=\"url(#clip040)\" style=\"stroke:#000000; stroke-linecap:butt; stroke-linejoin:round; stroke-width:4; stroke-opacity:1; fill:none\" points=\"\n",
       "  1351.24,1423.18 1351.24,1404.28 \n",
       "  \"/>\n",
       "<polyline clip-path=\"url(#clip040)\" style=\"stroke:#000000; stroke-linecap:butt; stroke-linejoin:round; stroke-width:4; stroke-opacity:1; fill:none\" points=\"\n",
       "  1823.92,1423.18 1823.92,1404.28 \n",
       "  \"/>\n",
       "<polyline clip-path=\"url(#clip040)\" style=\"stroke:#000000; stroke-linecap:butt; stroke-linejoin:round; stroke-width:4; stroke-opacity:1; fill:none\" points=\"\n",
       "  2296.6,1423.18 2296.6,1404.28 \n",
       "  \"/>\n",
       "<path clip-path=\"url(#clip040)\" d=\"M353.101 1452.37 Q349.49 1452.37 347.661 1455.94 Q345.856 1459.48 345.856 1466.61 Q345.856 1473.71 347.661 1477.28 Q349.49 1480.82 353.101 1480.82 Q356.735 1480.82 358.541 1477.28 Q360.37 1473.71 360.37 1466.61 Q360.37 1459.48 358.541 1455.94 Q356.735 1452.37 353.101 1452.37 M353.101 1448.67 Q358.911 1448.67 361.967 1453.27 Q365.046 1457.86 365.046 1466.61 Q365.046 1475.33 361.967 1479.94 Q358.911 1484.52 353.101 1484.52 Q347.291 1484.52 344.212 1479.94 Q341.157 1475.33 341.157 1466.61 Q341.157 1457.86 344.212 1453.27 Q347.291 1448.67 353.101 1448.67 Z\" fill=\"#000000\" fill-rule=\"evenodd\" fill-opacity=\"1\" /><path clip-path=\"url(#clip040)\" d=\"M373.263 1477.97 L378.147 1477.97 L378.147 1483.85 L373.263 1483.85 L373.263 1477.97 Z\" fill=\"#000000\" fill-rule=\"evenodd\" fill-opacity=\"1\" /><path clip-path=\"url(#clip040)\" d=\"M398.332 1452.37 Q394.721 1452.37 392.893 1455.94 Q391.087 1459.48 391.087 1466.61 Q391.087 1473.71 392.893 1477.28 Q394.721 1480.82 398.332 1480.82 Q401.967 1480.82 403.772 1477.28 Q405.601 1473.71 405.601 1466.61 Q405.601 1459.48 403.772 1455.94 Q401.967 1452.37 398.332 1452.37 M398.332 1448.67 Q404.143 1448.67 407.198 1453.27 Q410.277 1457.86 410.277 1466.61 Q410.277 1475.33 407.198 1479.94 Q404.143 1484.52 398.332 1484.52 Q392.522 1484.52 389.444 1479.94 Q386.388 1475.33 386.388 1466.61 Q386.388 1457.86 389.444 1453.27 Q392.522 1448.67 398.332 1448.67 Z\" fill=\"#000000\" fill-rule=\"evenodd\" fill-opacity=\"1\" /><path clip-path=\"url(#clip040)\" d=\"M428.494 1452.37 Q424.883 1452.37 423.054 1455.94 Q421.249 1459.48 421.249 1466.61 Q421.249 1473.71 423.054 1477.28 Q424.883 1480.82 428.494 1480.82 Q432.128 1480.82 433.934 1477.28 Q435.763 1473.71 435.763 1466.61 Q435.763 1459.48 433.934 1455.94 Q432.128 1452.37 428.494 1452.37 M428.494 1448.67 Q434.304 1448.67 437.36 1453.27 Q440.439 1457.86 440.439 1466.61 Q440.439 1475.33 437.36 1479.94 Q434.304 1484.52 428.494 1484.52 Q422.684 1484.52 419.605 1479.94 Q416.55 1475.33 416.55 1466.61 Q416.55 1457.86 419.605 1453.27 Q422.684 1448.67 428.494 1448.67 Z\" fill=\"#000000\" fill-rule=\"evenodd\" fill-opacity=\"1\" /><path clip-path=\"url(#clip040)\" d=\"M458.656 1452.37 Q455.045 1452.37 453.216 1455.94 Q451.411 1459.48 451.411 1466.61 Q451.411 1473.71 453.216 1477.28 Q455.045 1480.82 458.656 1480.82 Q462.29 1480.82 464.096 1477.28 Q465.925 1473.71 465.925 1466.61 Q465.925 1459.48 464.096 1455.94 Q462.29 1452.37 458.656 1452.37 M458.656 1448.67 Q464.466 1448.67 467.522 1453.27 Q470.6 1457.86 470.6 1466.61 Q470.6 1475.33 467.522 1479.94 Q464.466 1484.52 458.656 1484.52 Q452.846 1484.52 449.767 1479.94 Q446.712 1475.33 446.712 1466.61 Q446.712 1457.86 449.767 1453.27 Q452.846 1448.67 458.656 1448.67 Z\" fill=\"#000000\" fill-rule=\"evenodd\" fill-opacity=\"1\" /><path clip-path=\"url(#clip040)\" d=\"M826.28 1452.37 Q822.668 1452.37 820.84 1455.94 Q819.034 1459.48 819.034 1466.61 Q819.034 1473.71 820.84 1477.28 Q822.668 1480.82 826.28 1480.82 Q829.914 1480.82 831.719 1477.28 Q833.548 1473.71 833.548 1466.61 Q833.548 1459.48 831.719 1455.94 Q829.914 1452.37 826.28 1452.37 M826.28 1448.67 Q832.09 1448.67 835.145 1453.27 Q838.224 1457.86 838.224 1466.61 Q838.224 1475.33 835.145 1479.94 Q832.09 1484.52 826.28 1484.52 Q820.469 1484.52 817.391 1479.94 Q814.335 1475.33 814.335 1466.61 Q814.335 1457.86 817.391 1453.27 Q820.469 1448.67 826.28 1448.67 Z\" fill=\"#000000\" fill-rule=\"evenodd\" fill-opacity=\"1\" /><path clip-path=\"url(#clip040)\" d=\"M846.441 1477.97 L851.326 1477.97 L851.326 1483.85 L846.441 1483.85 L846.441 1477.97 Z\" fill=\"#000000\" fill-rule=\"evenodd\" fill-opacity=\"1\" /><path clip-path=\"url(#clip040)\" d=\"M871.511 1452.37 Q867.9 1452.37 866.071 1455.94 Q864.265 1459.48 864.265 1466.61 Q864.265 1473.71 866.071 1477.28 Q867.9 1480.82 871.511 1480.82 Q875.145 1480.82 876.951 1477.28 Q878.779 1473.71 878.779 1466.61 Q878.779 1459.48 876.951 1455.94 Q875.145 1452.37 871.511 1452.37 M871.511 1448.67 Q877.321 1448.67 880.376 1453.27 Q883.455 1457.86 883.455 1466.61 Q883.455 1475.33 880.376 1479.94 Q877.321 1484.52 871.511 1484.52 Q865.701 1484.52 862.622 1479.94 Q859.566 1475.33 859.566 1466.61 Q859.566 1457.86 862.622 1453.27 Q865.701 1448.67 871.511 1448.67 Z\" fill=\"#000000\" fill-rule=\"evenodd\" fill-opacity=\"1\" /><path clip-path=\"url(#clip040)\" d=\"M895.7 1479.92 L912.02 1479.92 L912.02 1483.85 L890.075 1483.85 L890.075 1479.92 Q892.737 1477.16 897.321 1472.53 Q901.927 1467.88 903.108 1466.54 Q905.353 1464.01 906.233 1462.28 Q907.136 1460.52 907.136 1458.83 Q907.136 1456.07 905.191 1454.34 Q903.27 1452.6 900.168 1452.6 Q897.969 1452.6 895.515 1453.37 Q893.085 1454.13 890.307 1455.68 L890.307 1450.96 Q893.131 1449.82 895.585 1449.25 Q898.038 1448.67 900.075 1448.67 Q905.446 1448.67 908.64 1451.35 Q911.835 1454.04 911.835 1458.53 Q911.835 1460.66 911.024 1462.58 Q910.237 1464.48 908.131 1467.07 Q907.552 1467.74 904.45 1470.96 Q901.349 1474.15 895.7 1479.92 Z\" fill=\"#000000\" fill-rule=\"evenodd\" fill-opacity=\"1\" /><path clip-path=\"url(#clip040)\" d=\"M921.881 1449.29 L940.237 1449.29 L940.237 1453.23 L926.163 1453.23 L926.163 1461.7 Q927.182 1461.35 928.2 1461.19 Q929.219 1461 930.237 1461 Q936.024 1461 939.404 1464.18 Q942.784 1467.35 942.784 1472.76 Q942.784 1478.34 939.311 1481.44 Q935.839 1484.52 929.52 1484.52 Q927.344 1484.52 925.075 1484.15 Q922.83 1483.78 920.423 1483.04 L920.423 1478.34 Q922.506 1479.48 924.728 1480.03 Q926.95 1480.59 929.427 1480.59 Q933.432 1480.59 935.77 1478.48 Q938.108 1476.38 938.108 1472.76 Q938.108 1469.15 935.77 1467.05 Q933.432 1464.94 929.427 1464.94 Q927.552 1464.94 925.677 1465.36 Q923.825 1465.77 921.881 1466.65 L921.881 1449.29 Z\" fill=\"#000000\" fill-rule=\"evenodd\" fill-opacity=\"1\" /><path clip-path=\"url(#clip040)\" d=\"M1298.46 1452.37 Q1294.85 1452.37 1293.02 1455.94 Q1291.22 1459.48 1291.22 1466.61 Q1291.22 1473.71 1293.02 1477.28 Q1294.85 1480.82 1298.46 1480.82 Q1302.1 1480.82 1303.9 1477.28 Q1305.73 1473.71 1305.73 1466.61 Q1305.73 1459.48 1303.9 1455.94 Q1302.1 1452.37 1298.46 1452.37 M1298.46 1448.67 Q1304.27 1448.67 1307.33 1453.27 Q1310.41 1457.86 1310.41 1466.61 Q1310.41 1475.33 1307.33 1479.94 Q1304.27 1484.52 1298.46 1484.52 Q1292.65 1484.52 1289.57 1479.94 Q1286.52 1475.33 1286.52 1466.61 Q1286.52 1457.86 1289.57 1453.27 Q1292.65 1448.67 1298.46 1448.67 Z\" fill=\"#000000\" fill-rule=\"evenodd\" fill-opacity=\"1\" /><path clip-path=\"url(#clip040)\" d=\"M1318.62 1477.97 L1323.51 1477.97 L1323.51 1483.85 L1318.62 1483.85 L1318.62 1477.97 Z\" fill=\"#000000\" fill-rule=\"evenodd\" fill-opacity=\"1\" /><path clip-path=\"url(#clip040)\" d=\"M1343.69 1452.37 Q1340.08 1452.37 1338.25 1455.94 Q1336.45 1459.48 1336.45 1466.61 Q1336.45 1473.71 1338.25 1477.28 Q1340.08 1480.82 1343.69 1480.82 Q1347.33 1480.82 1349.13 1477.28 Q1350.96 1473.71 1350.96 1466.61 Q1350.96 1459.48 1349.13 1455.94 Q1347.33 1452.37 1343.69 1452.37 M1343.69 1448.67 Q1349.5 1448.67 1352.56 1453.27 Q1355.64 1457.86 1355.64 1466.61 Q1355.64 1475.33 1352.56 1479.94 Q1349.5 1484.52 1343.69 1484.52 Q1337.88 1484.52 1334.8 1479.94 Q1331.75 1475.33 1331.75 1466.61 Q1331.75 1457.86 1334.8 1453.27 Q1337.88 1448.67 1343.69 1448.67 Z\" fill=\"#000000\" fill-rule=\"evenodd\" fill-opacity=\"1\" /><path clip-path=\"url(#clip040)\" d=\"M1363.9 1449.29 L1382.26 1449.29 L1382.26 1453.23 L1368.18 1453.23 L1368.18 1461.7 Q1369.2 1461.35 1370.22 1461.19 Q1371.24 1461 1372.26 1461 Q1378.05 1461 1381.43 1464.18 Q1384.8 1467.35 1384.8 1472.76 Q1384.8 1478.34 1381.33 1481.44 Q1377.86 1484.52 1371.54 1484.52 Q1369.36 1484.52 1367.1 1484.15 Q1364.85 1483.78 1362.44 1483.04 L1362.44 1478.34 Q1364.53 1479.48 1366.75 1480.03 Q1368.97 1480.59 1371.45 1480.59 Q1375.45 1480.59 1377.79 1478.48 Q1380.13 1476.38 1380.13 1472.76 Q1380.13 1469.15 1377.79 1467.05 Q1375.45 1464.94 1371.45 1464.94 Q1369.57 1464.94 1367.7 1465.36 Q1365.85 1465.77 1363.9 1466.65 L1363.9 1449.29 Z\" fill=\"#000000\" fill-rule=\"evenodd\" fill-opacity=\"1\" /><path clip-path=\"url(#clip040)\" d=\"M1404.02 1452.37 Q1400.41 1452.37 1398.58 1455.94 Q1396.77 1459.48 1396.77 1466.61 Q1396.77 1473.71 1398.58 1477.28 Q1400.41 1480.82 1404.02 1480.82 Q1407.65 1480.82 1409.46 1477.28 Q1411.29 1473.71 1411.29 1466.61 Q1411.29 1459.48 1409.46 1455.94 Q1407.65 1452.37 1404.02 1452.37 M1404.02 1448.67 Q1409.83 1448.67 1412.88 1453.27 Q1415.96 1457.86 1415.96 1466.61 Q1415.96 1475.33 1412.88 1479.94 Q1409.83 1484.52 1404.02 1484.52 Q1398.21 1484.52 1395.13 1479.94 Q1392.07 1475.33 1392.07 1466.61 Q1392.07 1457.86 1395.13 1453.27 Q1398.21 1448.67 1404.02 1448.67 Z\" fill=\"#000000\" fill-rule=\"evenodd\" fill-opacity=\"1\" /><path clip-path=\"url(#clip040)\" d=\"M1771.64 1452.37 Q1768.03 1452.37 1766.2 1455.94 Q1764.4 1459.48 1764.4 1466.61 Q1764.4 1473.71 1766.2 1477.28 Q1768.03 1480.82 1771.64 1480.82 Q1775.28 1480.82 1777.08 1477.28 Q1778.91 1473.71 1778.91 1466.61 Q1778.91 1459.48 1777.08 1455.94 Q1775.28 1452.37 1771.64 1452.37 M1771.64 1448.67 Q1777.45 1448.67 1780.51 1453.27 Q1783.59 1457.86 1783.59 1466.61 Q1783.59 1475.33 1780.51 1479.94 Q1777.45 1484.52 1771.64 1484.52 Q1765.83 1484.52 1762.75 1479.94 Q1759.7 1475.33 1759.7 1466.61 Q1759.7 1457.86 1762.75 1453.27 Q1765.83 1448.67 1771.64 1448.67 Z\" fill=\"#000000\" fill-rule=\"evenodd\" fill-opacity=\"1\" /><path clip-path=\"url(#clip040)\" d=\"M1791.8 1477.97 L1796.69 1477.97 L1796.69 1483.85 L1791.8 1483.85 L1791.8 1477.97 Z\" fill=\"#000000\" fill-rule=\"evenodd\" fill-opacity=\"1\" /><path clip-path=\"url(#clip040)\" d=\"M1816.87 1452.37 Q1813.26 1452.37 1811.43 1455.94 Q1809.63 1459.48 1809.63 1466.61 Q1809.63 1473.71 1811.43 1477.28 Q1813.26 1480.82 1816.87 1480.82 Q1820.51 1480.82 1822.31 1477.28 Q1824.14 1473.71 1824.14 1466.61 Q1824.14 1459.48 1822.31 1455.94 Q1820.51 1452.37 1816.87 1452.37 M1816.87 1448.67 Q1822.68 1448.67 1825.74 1453.27 Q1828.82 1457.86 1828.82 1466.61 Q1828.82 1475.33 1825.74 1479.94 Q1822.68 1484.52 1816.87 1484.52 Q1811.06 1484.52 1807.98 1479.94 Q1804.93 1475.33 1804.93 1466.61 Q1804.93 1457.86 1807.98 1453.27 Q1811.06 1448.67 1816.87 1448.67 Z\" fill=\"#000000\" fill-rule=\"evenodd\" fill-opacity=\"1\" /><path clip-path=\"url(#clip040)\" d=\"M1835.85 1449.29 L1858.08 1449.29 L1858.08 1451.28 L1845.53 1483.85 L1840.65 1483.85 L1852.45 1453.23 L1835.85 1453.23 L1835.85 1449.29 Z\" fill=\"#000000\" fill-rule=\"evenodd\" fill-opacity=\"1\" /><path clip-path=\"url(#clip040)\" d=\"M1867.24 1449.29 L1885.6 1449.29 L1885.6 1453.23 L1871.52 1453.23 L1871.52 1461.7 Q1872.54 1461.35 1873.56 1461.19 Q1874.58 1461 1875.6 1461 Q1881.39 1461 1884.77 1464.18 Q1888.14 1467.35 1888.14 1472.76 Q1888.14 1478.34 1884.67 1481.44 Q1881.2 1484.52 1874.88 1484.52 Q1872.71 1484.52 1870.44 1484.15 Q1868.19 1483.78 1865.78 1483.04 L1865.78 1478.34 Q1867.87 1479.48 1870.09 1480.03 Q1872.31 1480.59 1874.79 1480.59 Q1878.79 1480.59 1881.13 1478.48 Q1883.47 1476.38 1883.47 1472.76 Q1883.47 1469.15 1881.13 1467.05 Q1878.79 1464.94 1874.79 1464.94 Q1872.91 1464.94 1871.04 1465.36 Q1869.19 1465.77 1867.24 1466.65 L1867.24 1449.29 Z\" fill=\"#000000\" fill-rule=\"evenodd\" fill-opacity=\"1\" /><path clip-path=\"url(#clip040)\" d=\"M2243.82 1452.37 Q2240.21 1452.37 2238.38 1455.94 Q2236.58 1459.48 2236.58 1466.61 Q2236.58 1473.71 2238.38 1477.28 Q2240.21 1480.82 2243.82 1480.82 Q2247.46 1480.82 2249.26 1477.28 Q2251.09 1473.71 2251.09 1466.61 Q2251.09 1459.48 2249.26 1455.94 Q2247.46 1452.37 2243.82 1452.37 M2243.82 1448.67 Q2249.63 1448.67 2252.69 1453.27 Q2255.77 1457.86 2255.77 1466.61 Q2255.77 1475.33 2252.69 1479.94 Q2249.63 1484.52 2243.82 1484.52 Q2238.01 1484.52 2234.94 1479.94 Q2231.88 1475.33 2231.88 1466.61 Q2231.88 1457.86 2234.94 1453.27 Q2238.01 1448.67 2243.82 1448.67 Z\" fill=\"#000000\" fill-rule=\"evenodd\" fill-opacity=\"1\" /><path clip-path=\"url(#clip040)\" d=\"M2263.99 1477.97 L2268.87 1477.97 L2268.87 1483.85 L2263.99 1483.85 L2263.99 1477.97 Z\" fill=\"#000000\" fill-rule=\"evenodd\" fill-opacity=\"1\" /><path clip-path=\"url(#clip040)\" d=\"M2279.87 1479.92 L2287.5 1479.92 L2287.5 1453.55 L2279.19 1455.22 L2279.19 1450.96 L2287.46 1449.29 L2292.13 1449.29 L2292.13 1479.92 L2299.77 1479.92 L2299.77 1483.85 L2279.87 1483.85 L2279.87 1479.92 Z\" fill=\"#000000\" fill-rule=\"evenodd\" fill-opacity=\"1\" /><path clip-path=\"url(#clip040)\" d=\"M2319.22 1452.37 Q2315.61 1452.37 2313.78 1455.94 Q2311.97 1459.48 2311.97 1466.61 Q2311.97 1473.71 2313.78 1477.28 Q2315.61 1480.82 2319.22 1480.82 Q2322.85 1480.82 2324.66 1477.28 Q2326.49 1473.71 2326.49 1466.61 Q2326.49 1459.48 2324.66 1455.94 Q2322.85 1452.37 2319.22 1452.37 M2319.22 1448.67 Q2325.03 1448.67 2328.08 1453.27 Q2331.16 1457.86 2331.16 1466.61 Q2331.16 1475.33 2328.08 1479.94 Q2325.03 1484.52 2319.22 1484.52 Q2313.41 1484.52 2310.33 1479.94 Q2307.27 1475.33 2307.27 1466.61 Q2307.27 1457.86 2310.33 1453.27 Q2313.41 1448.67 2319.22 1448.67 Z\" fill=\"#000000\" fill-rule=\"evenodd\" fill-opacity=\"1\" /><path clip-path=\"url(#clip040)\" d=\"M2349.38 1452.37 Q2345.77 1452.37 2343.94 1455.94 Q2342.13 1459.48 2342.13 1466.61 Q2342.13 1473.71 2343.94 1477.28 Q2345.77 1480.82 2349.38 1480.82 Q2353.01 1480.82 2354.82 1477.28 Q2356.65 1473.71 2356.65 1466.61 Q2356.65 1459.48 2354.82 1455.94 Q2353.01 1452.37 2349.38 1452.37 M2349.38 1448.67 Q2355.19 1448.67 2358.24 1453.27 Q2361.32 1457.86 2361.32 1466.61 Q2361.32 1475.33 2358.24 1479.94 Q2355.19 1484.52 2349.38 1484.52 Q2343.57 1484.52 2340.49 1479.94 Q2337.43 1475.33 2337.43 1466.61 Q2337.43 1457.86 2340.49 1453.27 Q2343.57 1448.67 2349.38 1448.67 Z\" fill=\"#000000\" fill-rule=\"evenodd\" fill-opacity=\"1\" /><path clip-path=\"url(#clip040)\" d=\"M1314.45 1539.24 Q1316.64 1535.29 1319.7 1533.41 Q1322.75 1531.54 1326.89 1531.54 Q1332.46 1531.54 1335.49 1535.45 Q1338.51 1539.33 1338.51 1546.53 L1338.51 1568.04 L1332.62 1568.04 L1332.62 1546.72 Q1332.62 1541.59 1330.81 1539.11 Q1328.99 1536.63 1325.27 1536.63 Q1320.72 1536.63 1318.08 1539.65 Q1315.43 1542.68 1315.43 1547.9 L1315.43 1568.04 L1309.55 1568.04 L1309.55 1546.72 Q1309.55 1541.56 1307.73 1539.11 Q1305.92 1536.63 1302.13 1536.63 Q1297.64 1536.63 1295 1539.68 Q1292.36 1542.71 1292.36 1547.9 L1292.36 1568.04 L1286.47 1568.04 L1286.47 1532.4 L1292.36 1532.4 L1292.36 1537.93 Q1294.36 1534.66 1297.16 1533.1 Q1299.96 1531.54 1303.82 1531.54 Q1307.7 1531.54 1310.4 1533.51 Q1313.14 1535.48 1314.45 1539.24 Z\" fill=\"#000000\" fill-rule=\"evenodd\" fill-opacity=\"1\" /><path clip-path=\"url(#clip040)\" d=\"M1374.48 1520.52 L1391.76 1538.25 L1385.36 1538.25 L1371.36 1525.68 L1357.35 1538.25 L1350.95 1538.25 L1368.24 1520.52 L1374.48 1520.52 Z\" fill=\"#000000\" fill-rule=\"evenodd\" fill-opacity=\"1\" /><path clip-path=\"url(#clip040)\" d=\"M1425.11 1542.42 Q1429.73 1543.41 1432.31 1546.53 Q1434.92 1549.65 1434.92 1554.23 Q1434.92 1561.26 1430.08 1565.12 Q1425.24 1568.97 1416.33 1568.97 Q1413.34 1568.97 1410.16 1568.36 Q1407 1567.79 1403.63 1566.61 L1403.63 1560.4 Q1406.3 1561.96 1409.49 1562.76 Q1412.67 1563.56 1416.14 1563.56 Q1422.19 1563.56 1425.34 1561.17 Q1428.52 1558.78 1428.52 1554.23 Q1428.52 1550.03 1425.56 1547.67 Q1422.63 1545.29 1417.38 1545.29 L1411.84 1545.29 L1411.84 1540 L1417.63 1540 Q1422.38 1540 1424.89 1538.13 Q1427.41 1536.22 1427.41 1532.65 Q1427.41 1528.99 1424.8 1527.05 Q1422.22 1525.08 1417.38 1525.08 Q1414.74 1525.08 1411.71 1525.65 Q1408.69 1526.22 1405.06 1527.43 L1405.06 1521.7 Q1408.72 1520.68 1411.91 1520.17 Q1415.12 1519.66 1417.95 1519.66 Q1425.27 1519.66 1429.54 1523.01 Q1433.8 1526.32 1433.8 1531.98 Q1433.8 1535.93 1431.54 1538.67 Q1429.28 1541.37 1425.11 1542.42 Z\" fill=\"#000000\" fill-rule=\"evenodd\" fill-opacity=\"1\" /><polyline clip-path=\"url(#clip042)\" style=\"stroke:#000000; stroke-linecap:butt; stroke-linejoin:round; stroke-width:2; stroke-opacity:0.1; fill:none\" points=\"\n",
       "  368.631,1397.35 2352.76,1397.35 \n",
       "  \"/>\n",
       "<polyline clip-path=\"url(#clip042)\" style=\"stroke:#000000; stroke-linecap:butt; stroke-linejoin:round; stroke-width:2; stroke-opacity:0.1; fill:none\" points=\"\n",
       "  368.631,1132.88 2352.76,1132.88 \n",
       "  \"/>\n",
       "<polyline clip-path=\"url(#clip042)\" style=\"stroke:#000000; stroke-linecap:butt; stroke-linejoin:round; stroke-width:2; stroke-opacity:0.1; fill:none\" points=\"\n",
       "  368.631,868.42 2352.76,868.42 \n",
       "  \"/>\n",
       "<polyline clip-path=\"url(#clip042)\" style=\"stroke:#000000; stroke-linecap:butt; stroke-linejoin:round; stroke-width:2; stroke-opacity:0.1; fill:none\" points=\"\n",
       "  368.631,603.955 2352.76,603.955 \n",
       "  \"/>\n",
       "<polyline clip-path=\"url(#clip042)\" style=\"stroke:#000000; stroke-linecap:butt; stroke-linejoin:round; stroke-width:2; stroke-opacity:0.1; fill:none\" points=\"\n",
       "  368.631,339.489 2352.76,339.489 \n",
       "  \"/>\n",
       "<polyline clip-path=\"url(#clip042)\" style=\"stroke:#000000; stroke-linecap:butt; stroke-linejoin:round; stroke-width:2; stroke-opacity:0.1; fill:none\" points=\"\n",
       "  368.631,75.0243 2352.76,75.0243 \n",
       "  \"/>\n",
       "<polyline clip-path=\"url(#clip040)\" style=\"stroke:#000000; stroke-linecap:butt; stroke-linejoin:round; stroke-width:4; stroke-opacity:1; fill:none\" points=\"\n",
       "  368.631,1423.18 368.631,47.2441 \n",
       "  \"/>\n",
       "<polyline clip-path=\"url(#clip040)\" style=\"stroke:#000000; stroke-linecap:butt; stroke-linejoin:round; stroke-width:4; stroke-opacity:1; fill:none\" points=\"\n",
       "  368.631,1397.35 387.529,1397.35 \n",
       "  \"/>\n",
       "<polyline clip-path=\"url(#clip040)\" style=\"stroke:#000000; stroke-linecap:butt; stroke-linejoin:round; stroke-width:4; stroke-opacity:1; fill:none\" points=\"\n",
       "  368.631,1132.88 387.529,1132.88 \n",
       "  \"/>\n",
       "<polyline clip-path=\"url(#clip040)\" style=\"stroke:#000000; stroke-linecap:butt; stroke-linejoin:round; stroke-width:4; stroke-opacity:1; fill:none\" points=\"\n",
       "  368.631,868.42 387.529,868.42 \n",
       "  \"/>\n",
       "<polyline clip-path=\"url(#clip040)\" style=\"stroke:#000000; stroke-linecap:butt; stroke-linejoin:round; stroke-width:4; stroke-opacity:1; fill:none\" points=\"\n",
       "  368.631,603.955 387.529,603.955 \n",
       "  \"/>\n",
       "<polyline clip-path=\"url(#clip040)\" style=\"stroke:#000000; stroke-linecap:butt; stroke-linejoin:round; stroke-width:4; stroke-opacity:1; fill:none\" points=\"\n",
       "  368.631,339.489 387.529,339.489 \n",
       "  \"/>\n",
       "<polyline clip-path=\"url(#clip040)\" style=\"stroke:#000000; stroke-linecap:butt; stroke-linejoin:round; stroke-width:4; stroke-opacity:1; fill:none\" points=\"\n",
       "  368.631,75.0243 387.529,75.0243 \n",
       "  \"/>\n",
       "<path clip-path=\"url(#clip040)\" d=\"M320.687 1383.15 Q317.076 1383.15 315.247 1386.71 Q313.442 1390.26 313.442 1397.38 Q313.442 1404.49 315.247 1408.06 Q317.076 1411.6 320.687 1411.6 Q324.321 1411.6 326.127 1408.06 Q327.955 1404.49 327.955 1397.38 Q327.955 1390.26 326.127 1386.71 Q324.321 1383.15 320.687 1383.15 M320.687 1379.44 Q326.497 1379.44 329.553 1384.05 Q332.631 1388.63 332.631 1397.38 Q332.631 1406.11 329.553 1410.72 Q326.497 1415.3 320.687 1415.3 Q314.877 1415.3 311.798 1410.72 Q308.743 1406.11 308.743 1397.38 Q308.743 1388.63 311.798 1384.05 Q314.877 1379.44 320.687 1379.44 Z\" fill=\"#000000\" fill-rule=\"evenodd\" fill-opacity=\"1\" /><path clip-path=\"url(#clip040)\" d=\"M117.126 1122.05 L135.483 1122.05 L135.483 1125.99 L121.409 1125.99 L121.409 1134.46 Q122.427 1134.11 123.446 1133.95 Q124.464 1133.77 125.483 1133.77 Q131.27 1133.77 134.649 1136.94 Q138.029 1140.11 138.029 1145.52 Q138.029 1151.1 134.557 1154.2 Q131.084 1157.28 124.765 1157.28 Q122.589 1157.28 120.321 1156.91 Q118.075 1156.54 115.668 1155.8 L115.668 1151.1 Q117.751 1152.24 119.973 1152.79 Q122.196 1153.35 124.672 1153.35 Q128.677 1153.35 131.015 1151.24 Q133.353 1149.14 133.353 1145.52 Q133.353 1141.91 131.015 1139.81 Q128.677 1137.7 124.672 1137.7 Q122.797 1137.7 120.922 1138.12 Q119.071 1138.53 117.126 1139.41 L117.126 1122.05 Z\" fill=\"#000000\" fill-rule=\"evenodd\" fill-opacity=\"1\" /><path clip-path=\"url(#clip040)\" d=\"M147.242 1150.73 L152.126 1150.73 L152.126 1156.61 L147.242 1156.61 L147.242 1150.73 Z\" fill=\"#000000\" fill-rule=\"evenodd\" fill-opacity=\"1\" /><path clip-path=\"url(#clip040)\" d=\"M172.311 1125.13 Q168.7 1125.13 166.871 1128.7 Q165.066 1132.24 165.066 1139.37 Q165.066 1146.47 166.871 1150.04 Q168.7 1153.58 172.311 1153.58 Q175.945 1153.58 177.751 1150.04 Q179.58 1146.47 179.58 1139.37 Q179.58 1132.24 177.751 1128.7 Q175.945 1125.13 172.311 1125.13 M172.311 1121.43 Q178.121 1121.43 181.177 1126.03 Q184.255 1130.62 184.255 1139.37 Q184.255 1148.09 181.177 1152.7 Q178.121 1157.28 172.311 1157.28 Q166.501 1157.28 163.422 1152.7 Q160.367 1148.09 160.367 1139.37 Q160.367 1130.62 163.422 1126.03 Q166.501 1121.43 172.311 1121.43 Z\" fill=\"#000000\" fill-rule=\"evenodd\" fill-opacity=\"1\" /><path clip-path=\"url(#clip040)\" d=\"M202.473 1125.13 Q198.862 1125.13 197.033 1128.7 Q195.228 1132.24 195.228 1139.37 Q195.228 1146.47 197.033 1150.04 Q198.862 1153.58 202.473 1153.58 Q206.107 1153.58 207.913 1150.04 Q209.741 1146.47 209.741 1139.37 Q209.741 1132.24 207.913 1128.7 Q206.107 1125.13 202.473 1125.13 M202.473 1121.43 Q208.283 1121.43 211.339 1126.03 Q214.417 1130.62 214.417 1139.37 Q214.417 1148.09 211.339 1152.7 Q208.283 1157.28 202.473 1157.28 Q196.663 1157.28 193.584 1152.7 Q190.529 1148.09 190.529 1139.37 Q190.529 1130.62 193.584 1126.03 Q196.663 1121.43 202.473 1121.43 Z\" fill=\"#000000\" fill-rule=\"evenodd\" fill-opacity=\"1\" /><path clip-path=\"url(#clip040)\" d=\"M250.806 1131.15 L240.227 1141.77 L250.806 1152.35 L248.051 1155.15 L237.426 1144.53 L226.802 1155.15 L224.07 1152.35 L234.626 1141.77 L224.07 1131.15 L226.802 1128.35 L237.426 1138.97 L248.051 1128.35 L250.806 1131.15 Z\" fill=\"#000000\" fill-rule=\"evenodd\" fill-opacity=\"1\" /><path clip-path=\"url(#clip040)\" d=\"M263.167 1152.68 L270.806 1152.68 L270.806 1126.31 L262.496 1127.98 L262.496 1123.72 L270.76 1122.05 L275.436 1122.05 L275.436 1152.68 L283.074 1152.68 L283.074 1156.61 L263.167 1156.61 L263.167 1152.68 Z\" fill=\"#000000\" fill-rule=\"evenodd\" fill-opacity=\"1\" /><path clip-path=\"url(#clip040)\" d=\"M302.519 1125.13 Q298.908 1125.13 297.079 1128.7 Q295.273 1132.24 295.273 1139.37 Q295.273 1146.47 297.079 1150.04 Q298.908 1153.58 302.519 1153.58 Q306.153 1153.58 307.958 1150.04 Q309.787 1146.47 309.787 1139.37 Q309.787 1132.24 307.958 1128.7 Q306.153 1125.13 302.519 1125.13 M302.519 1121.43 Q308.329 1121.43 311.384 1126.03 Q314.463 1130.62 314.463 1139.37 Q314.463 1148.09 311.384 1152.7 Q308.329 1157.28 302.519 1157.28 Q296.709 1157.28 293.63 1152.7 Q290.574 1148.09 290.574 1139.37 Q290.574 1130.62 293.63 1126.03 Q296.709 1121.43 302.519 1121.43 Z\" fill=\"#000000\" fill-rule=\"evenodd\" fill-opacity=\"1\" /><path clip-path=\"url(#clip040)\" d=\"M315.648 1101.12 L330.563 1101.12 L330.563 1104.32 L319.127 1104.32 L319.127 1111.2 Q319.955 1110.92 320.782 1110.79 Q321.61 1110.64 322.438 1110.64 Q327.14 1110.64 329.885 1113.22 Q332.631 1115.79 332.631 1120.19 Q332.631 1124.73 329.81 1127.25 Q326.989 1129.75 321.855 1129.75 Q320.087 1129.75 318.243 1129.45 Q316.419 1129.15 314.463 1128.54 L314.463 1124.73 Q316.156 1125.65 317.961 1126.1 Q319.767 1126.55 321.779 1126.55 Q325.033 1126.55 326.933 1124.84 Q328.832 1123.13 328.832 1120.19 Q328.832 1117.26 326.933 1115.55 Q325.033 1113.84 321.779 1113.84 Q320.256 1113.84 318.732 1114.17 Q317.228 1114.51 315.648 1115.23 L315.648 1101.12 Z\" fill=\"#000000\" fill-rule=\"evenodd\" fill-opacity=\"1\" /><path clip-path=\"url(#clip040)\" d=\"M116.668 888.212 L124.306 888.212 L124.306 861.847 L115.996 863.513 L115.996 859.254 L124.26 857.587 L128.936 857.587 L128.936 888.212 L136.575 888.212 L136.575 892.147 L116.668 892.147 L116.668 888.212 Z\" fill=\"#000000\" fill-rule=\"evenodd\" fill-opacity=\"1\" /><path clip-path=\"url(#clip040)\" d=\"M146.019 886.268 L150.903 886.268 L150.903 892.147 L146.019 892.147 L146.019 886.268 Z\" fill=\"#000000\" fill-rule=\"evenodd\" fill-opacity=\"1\" /><path clip-path=\"url(#clip040)\" d=\"M171.089 860.666 Q167.477 860.666 165.649 864.231 Q163.843 867.772 163.843 874.902 Q163.843 882.008 165.649 885.573 Q167.477 889.115 171.089 889.115 Q174.723 889.115 176.528 885.573 Q178.357 882.008 178.357 874.902 Q178.357 867.772 176.528 864.231 Q174.723 860.666 171.089 860.666 M171.089 856.962 Q176.899 856.962 179.954 861.569 Q183.033 866.152 183.033 874.902 Q183.033 883.629 179.954 888.235 Q176.899 892.819 171.089 892.819 Q165.278 892.819 162.2 888.235 Q159.144 883.629 159.144 874.902 Q159.144 866.152 162.2 861.569 Q165.278 856.962 171.089 856.962 Z\" fill=\"#000000\" fill-rule=\"evenodd\" fill-opacity=\"1\" /><path clip-path=\"url(#clip040)\" d=\"M201.25 860.666 Q197.639 860.666 195.811 864.231 Q194.005 867.772 194.005 874.902 Q194.005 882.008 195.811 885.573 Q197.639 889.115 201.25 889.115 Q204.885 889.115 206.69 885.573 Q208.519 882.008 208.519 874.902 Q208.519 867.772 206.69 864.231 Q204.885 860.666 201.25 860.666 M201.25 856.962 Q207.061 856.962 210.116 861.569 Q213.195 866.152 213.195 874.902 Q213.195 883.629 210.116 888.235 Q207.061 892.819 201.25 892.819 Q195.44 892.819 192.362 888.235 Q189.306 883.629 189.306 874.902 Q189.306 866.152 192.362 861.569 Q195.44 856.962 201.25 856.962 Z\" fill=\"#000000\" fill-rule=\"evenodd\" fill-opacity=\"1\" /><path clip-path=\"url(#clip040)\" d=\"M249.584 866.684 L239.005 877.309 L249.584 887.888 L246.829 890.689 L236.204 880.064 L225.579 890.689 L222.848 887.888 L233.403 877.309 L222.848 866.684 L225.579 863.884 L236.204 874.508 L246.829 863.884 L249.584 866.684 Z\" fill=\"#000000\" fill-rule=\"evenodd\" fill-opacity=\"1\" /><path clip-path=\"url(#clip040)\" d=\"M261.945 888.212 L269.583 888.212 L269.583 861.847 L261.273 863.513 L261.273 859.254 L269.537 857.587 L274.213 857.587 L274.213 888.212 L281.852 888.212 L281.852 892.147 L261.945 892.147 L261.945 888.212 Z\" fill=\"#000000\" fill-rule=\"evenodd\" fill-opacity=\"1\" /><path clip-path=\"url(#clip040)\" d=\"M301.296 860.666 Q297.685 860.666 295.856 864.231 Q294.051 867.772 294.051 874.902 Q294.051 882.008 295.856 885.573 Q297.685 889.115 301.296 889.115 Q304.93 889.115 306.736 885.573 Q308.565 882.008 308.565 874.902 Q308.565 867.772 306.736 864.231 Q304.93 860.666 301.296 860.666 M301.296 856.962 Q307.106 856.962 310.162 861.569 Q313.241 866.152 313.241 874.902 Q313.241 883.629 310.162 888.235 Q307.106 892.819 301.296 892.819 Q295.486 892.819 292.407 888.235 Q289.352 883.629 289.352 874.902 Q289.352 866.152 292.407 861.569 Q295.486 856.962 301.296 856.962 Z\" fill=\"#000000\" fill-rule=\"evenodd\" fill-opacity=\"1\" /><path clip-path=\"url(#clip040)\" d=\"M323.265 849.183 Q320.707 849.183 319.203 850.932 Q317.717 852.681 317.717 855.728 Q317.717 858.756 319.203 860.524 Q320.707 862.273 323.265 862.273 Q325.823 862.273 327.309 860.524 Q328.813 858.756 328.813 855.728 Q328.813 852.681 327.309 850.932 Q325.823 849.183 323.265 849.183 M330.807 837.278 L330.807 840.738 Q329.378 840.061 327.911 839.704 Q326.462 839.346 325.033 839.346 Q321.271 839.346 319.278 841.885 Q317.303 844.424 317.021 849.559 Q318.131 847.923 319.804 847.058 Q321.478 846.174 323.491 846.174 Q327.723 846.174 330.168 848.75 Q332.631 851.308 332.631 855.728 Q332.631 860.054 330.074 862.668 Q327.516 865.282 323.265 865.282 Q318.394 865.282 315.817 861.558 Q313.241 857.816 313.241 850.725 Q313.241 844.067 316.4 840.117 Q319.56 836.149 324.883 836.149 Q326.312 836.149 327.76 836.431 Q329.227 836.713 330.807 837.278 Z\" fill=\"#000000\" fill-rule=\"evenodd\" fill-opacity=\"1\" /><path clip-path=\"url(#clip040)\" d=\"M116.668 623.747 L124.306 623.747 L124.306 597.381 L115.996 599.048 L115.996 594.789 L124.26 593.122 L128.936 593.122 L128.936 623.747 L136.575 623.747 L136.575 627.682 L116.668 627.682 L116.668 623.747 Z\" fill=\"#000000\" fill-rule=\"evenodd\" fill-opacity=\"1\" /><path clip-path=\"url(#clip040)\" d=\"M146.019 621.803 L150.903 621.803 L150.903 627.682 L146.019 627.682 L146.019 621.803 Z\" fill=\"#000000\" fill-rule=\"evenodd\" fill-opacity=\"1\" /><path clip-path=\"url(#clip040)\" d=\"M161.135 593.122 L179.491 593.122 L179.491 597.057 L165.417 597.057 L165.417 605.529 Q166.436 605.182 167.454 605.02 Q168.473 604.835 169.491 604.835 Q175.278 604.835 178.658 608.006 Q182.038 611.178 182.038 616.594 Q182.038 622.173 178.565 625.275 Q175.093 628.353 168.774 628.353 Q166.598 628.353 164.329 627.983 Q162.084 627.613 159.677 626.872 L159.677 622.173 Q161.76 623.307 163.982 623.863 Q166.204 624.418 168.681 624.418 Q172.686 624.418 175.024 622.312 Q177.362 620.205 177.362 616.594 Q177.362 612.983 175.024 610.877 Q172.686 608.77 168.681 608.77 Q166.806 608.77 164.931 609.187 Q163.079 609.604 161.135 610.483 L161.135 593.122 Z\" fill=\"#000000\" fill-rule=\"evenodd\" fill-opacity=\"1\" /><path clip-path=\"url(#clip040)\" d=\"M201.25 596.201 Q197.639 596.201 195.811 599.766 Q194.005 603.307 194.005 610.437 Q194.005 617.543 195.811 621.108 Q197.639 624.65 201.25 624.65 Q204.885 624.65 206.69 621.108 Q208.519 617.543 208.519 610.437 Q208.519 603.307 206.69 599.766 Q204.885 596.201 201.25 596.201 M201.25 592.497 Q207.061 592.497 210.116 597.104 Q213.195 601.687 213.195 610.437 Q213.195 619.164 210.116 623.77 Q207.061 628.353 201.25 628.353 Q195.44 628.353 192.362 623.77 Q189.306 619.164 189.306 610.437 Q189.306 601.687 192.362 597.104 Q195.44 592.497 201.25 592.497 Z\" fill=\"#000000\" fill-rule=\"evenodd\" fill-opacity=\"1\" /><path clip-path=\"url(#clip040)\" d=\"M249.584 602.219 L239.005 612.844 L249.584 623.423 L246.829 626.224 L236.204 615.599 L225.579 626.224 L222.848 623.423 L233.403 612.844 L222.848 602.219 L225.579 599.418 L236.204 610.043 L246.829 599.418 L249.584 602.219 Z\" fill=\"#000000\" fill-rule=\"evenodd\" fill-opacity=\"1\" /><path clip-path=\"url(#clip040)\" d=\"M261.945 623.747 L269.583 623.747 L269.583 597.381 L261.273 599.048 L261.273 594.789 L269.537 593.122 L274.213 593.122 L274.213 623.747 L281.852 623.747 L281.852 627.682 L261.945 627.682 L261.945 623.747 Z\" fill=\"#000000\" fill-rule=\"evenodd\" fill-opacity=\"1\" /><path clip-path=\"url(#clip040)\" d=\"M301.296 596.201 Q297.685 596.201 295.856 599.766 Q294.051 603.307 294.051 610.437 Q294.051 617.543 295.856 621.108 Q297.685 624.65 301.296 624.65 Q304.93 624.65 306.736 621.108 Q308.565 617.543 308.565 610.437 Q308.565 603.307 306.736 599.766 Q304.93 596.201 301.296 596.201 M301.296 592.497 Q307.106 592.497 310.162 597.104 Q313.241 601.687 313.241 610.437 Q313.241 619.164 310.162 623.77 Q307.106 628.353 301.296 628.353 Q295.486 628.353 292.407 623.77 Q289.352 619.164 289.352 610.437 Q289.352 601.687 292.407 597.104 Q295.486 592.497 301.296 592.497 Z\" fill=\"#000000\" fill-rule=\"evenodd\" fill-opacity=\"1\" /><path clip-path=\"url(#clip040)\" d=\"M323.265 584.718 Q320.707 584.718 319.203 586.467 Q317.717 588.216 317.717 591.263 Q317.717 594.291 319.203 596.059 Q320.707 597.808 323.265 597.808 Q325.823 597.808 327.309 596.059 Q328.813 594.291 328.813 591.263 Q328.813 588.216 327.309 586.467 Q325.823 584.718 323.265 584.718 M330.807 572.812 L330.807 576.273 Q329.378 575.596 327.911 575.239 Q326.462 574.881 325.033 574.881 Q321.271 574.881 319.278 577.42 Q317.303 579.959 317.021 585.094 Q318.131 583.458 319.804 582.592 Q321.478 581.708 323.491 581.708 Q327.723 581.708 330.168 584.285 Q332.631 586.843 332.631 591.263 Q332.631 595.589 330.074 598.203 Q327.516 600.817 323.265 600.817 Q318.394 600.817 315.817 597.093 Q313.241 593.35 313.241 586.26 Q313.241 579.602 316.4 575.652 Q319.56 571.684 324.883 571.684 Q326.312 571.684 327.76 571.966 Q329.227 572.248 330.807 572.812 Z\" fill=\"#000000\" fill-rule=\"evenodd\" fill-opacity=\"1\" /><path clip-path=\"url(#clip040)\" d=\"M119.885 359.282 L136.204 359.282 L136.204 363.217 L114.26 363.217 L114.26 359.282 Q116.922 356.527 121.505 351.898 Q126.112 347.245 127.292 345.902 Q129.538 343.379 130.417 341.643 Q131.32 339.884 131.32 338.194 Q131.32 335.439 129.376 333.703 Q127.455 331.967 124.353 331.967 Q122.154 331.967 119.7 332.731 Q117.269 333.495 114.492 335.046 L114.492 330.324 Q117.316 329.189 119.769 328.611 Q122.223 328.032 124.26 328.032 Q129.63 328.032 132.825 330.717 Q136.019 333.402 136.019 337.893 Q136.019 340.023 135.209 341.944 Q134.422 343.842 132.316 346.435 Q131.737 347.106 128.635 350.324 Q125.533 353.518 119.885 359.282 Z\" fill=\"#000000\" fill-rule=\"evenodd\" fill-opacity=\"1\" /><path clip-path=\"url(#clip040)\" d=\"M146.019 357.337 L150.903 357.337 L150.903 363.217 L146.019 363.217 L146.019 357.337 Z\" fill=\"#000000\" fill-rule=\"evenodd\" fill-opacity=\"1\" /><path clip-path=\"url(#clip040)\" d=\"M171.089 331.736 Q167.477 331.736 165.649 335.301 Q163.843 338.842 163.843 345.972 Q163.843 353.078 165.649 356.643 Q167.477 360.185 171.089 360.185 Q174.723 360.185 176.528 356.643 Q178.357 353.078 178.357 345.972 Q178.357 338.842 176.528 335.301 Q174.723 331.736 171.089 331.736 M171.089 328.032 Q176.899 328.032 179.954 332.638 Q183.033 337.222 183.033 345.972 Q183.033 354.699 179.954 359.305 Q176.899 363.888 171.089 363.888 Q165.278 363.888 162.2 359.305 Q159.144 354.699 159.144 345.972 Q159.144 337.222 162.2 332.638 Q165.278 328.032 171.089 328.032 Z\" fill=\"#000000\" fill-rule=\"evenodd\" fill-opacity=\"1\" /><path clip-path=\"url(#clip040)\" d=\"M201.25 331.736 Q197.639 331.736 195.811 335.301 Q194.005 338.842 194.005 345.972 Q194.005 353.078 195.811 356.643 Q197.639 360.185 201.25 360.185 Q204.885 360.185 206.69 356.643 Q208.519 353.078 208.519 345.972 Q208.519 338.842 206.69 335.301 Q204.885 331.736 201.25 331.736 M201.25 328.032 Q207.061 328.032 210.116 332.638 Q213.195 337.222 213.195 345.972 Q213.195 354.699 210.116 359.305 Q207.061 363.888 201.25 363.888 Q195.44 363.888 192.362 359.305 Q189.306 354.699 189.306 345.972 Q189.306 337.222 192.362 332.638 Q195.44 328.032 201.25 328.032 Z\" fill=\"#000000\" fill-rule=\"evenodd\" fill-opacity=\"1\" /><path clip-path=\"url(#clip040)\" d=\"M249.584 337.754 L239.005 348.379 L249.584 358.958 L246.829 361.759 L236.204 351.134 L225.579 361.759 L222.848 358.958 L233.403 348.379 L222.848 337.754 L225.579 334.953 L236.204 345.578 L246.829 334.953 L249.584 337.754 Z\" fill=\"#000000\" fill-rule=\"evenodd\" fill-opacity=\"1\" /><path clip-path=\"url(#clip040)\" d=\"M261.945 359.282 L269.583 359.282 L269.583 332.916 L261.273 334.583 L261.273 330.324 L269.537 328.657 L274.213 328.657 L274.213 359.282 L281.852 359.282 L281.852 363.217 L261.945 363.217 L261.945 359.282 Z\" fill=\"#000000\" fill-rule=\"evenodd\" fill-opacity=\"1\" /><path clip-path=\"url(#clip040)\" d=\"M301.296 331.736 Q297.685 331.736 295.856 335.301 Q294.051 338.842 294.051 345.972 Q294.051 353.078 295.856 356.643 Q297.685 360.185 301.296 360.185 Q304.93 360.185 306.736 356.643 Q308.565 353.078 308.565 345.972 Q308.565 338.842 306.736 335.301 Q304.93 331.736 301.296 331.736 M301.296 328.032 Q307.106 328.032 310.162 332.638 Q313.241 337.222 313.241 345.972 Q313.241 354.699 310.162 359.305 Q307.106 363.888 301.296 363.888 Q295.486 363.888 292.407 359.305 Q289.352 354.699 289.352 345.972 Q289.352 337.222 292.407 332.638 Q295.486 328.032 301.296 328.032 Z\" fill=\"#000000\" fill-rule=\"evenodd\" fill-opacity=\"1\" /><path clip-path=\"url(#clip040)\" d=\"M323.265 320.253 Q320.707 320.253 319.203 322.002 Q317.717 323.751 317.717 326.798 Q317.717 329.826 319.203 331.594 Q320.707 333.343 323.265 333.343 Q325.823 333.343 327.309 331.594 Q328.813 329.826 328.813 326.798 Q328.813 323.751 327.309 322.002 Q325.823 320.253 323.265 320.253 M330.807 308.347 L330.807 311.808 Q329.378 311.131 327.911 310.773 Q326.462 310.416 325.033 310.416 Q321.271 310.416 319.278 312.955 Q317.303 315.494 317.021 320.629 Q318.131 318.992 319.804 318.127 Q321.478 317.243 323.491 317.243 Q327.723 317.243 330.168 319.82 Q332.631 322.378 332.631 326.798 Q332.631 331.123 330.074 333.738 Q327.516 336.352 323.265 336.352 Q318.394 336.352 315.817 332.628 Q313.241 328.885 313.241 321.795 Q313.241 315.137 316.4 311.187 Q319.56 307.219 324.883 307.219 Q326.312 307.219 327.76 307.501 Q329.227 307.783 330.807 308.347 Z\" fill=\"#000000\" fill-rule=\"evenodd\" fill-opacity=\"1\" /><path clip-path=\"url(#clip040)\" d=\"M119.885 94.8167 L136.204 94.8167 L136.204 98.7519 L114.26 98.7519 L114.26 94.8167 Q116.922 92.0621 121.505 87.4325 Q126.112 82.7798 127.292 81.4372 Q129.538 78.914 130.417 77.1779 Q131.32 75.4187 131.32 73.7289 Q131.32 70.9743 129.376 69.2382 Q127.455 67.5021 124.353 67.5021 Q122.154 67.5021 119.7 68.266 Q117.269 69.0298 114.492 70.5808 L114.492 65.8586 Q117.316 64.7243 119.769 64.1456 Q122.223 63.5669 124.26 63.5669 Q129.63 63.5669 132.825 66.2521 Q136.019 68.9373 136.019 73.428 Q136.019 75.5576 135.209 77.4789 Q134.422 79.377 132.316 81.9696 Q131.737 82.6409 128.635 85.8585 Q125.533 89.0529 119.885 94.8167 Z\" fill=\"#000000\" fill-rule=\"evenodd\" fill-opacity=\"1\" /><path clip-path=\"url(#clip040)\" d=\"M146.019 92.8723 L150.903 92.8723 L150.903 98.7519 L146.019 98.7519 L146.019 92.8723 Z\" fill=\"#000000\" fill-rule=\"evenodd\" fill-opacity=\"1\" /><path clip-path=\"url(#clip040)\" d=\"M161.135 64.1919 L179.491 64.1919 L179.491 68.1271 L165.417 68.1271 L165.417 76.5992 Q166.436 76.252 167.454 76.09 Q168.473 75.9048 169.491 75.9048 Q175.278 75.9048 178.658 79.0761 Q182.038 82.2474 182.038 87.664 Q182.038 93.2427 178.565 96.3445 Q175.093 99.4232 168.774 99.4232 Q166.598 99.4232 164.329 99.0528 Q162.084 98.6825 159.677 97.9417 L159.677 93.2427 Q161.76 94.3769 163.982 94.9325 Q166.204 95.488 168.681 95.488 Q172.686 95.488 175.024 93.3816 Q177.362 91.2751 177.362 87.664 Q177.362 84.0529 175.024 81.9464 Q172.686 79.84 168.681 79.84 Q166.806 79.84 164.931 80.2566 Q163.079 80.6733 161.135 81.5529 L161.135 64.1919 Z\" fill=\"#000000\" fill-rule=\"evenodd\" fill-opacity=\"1\" /><path clip-path=\"url(#clip040)\" d=\"M201.25 67.2706 Q197.639 67.2706 195.811 70.8354 Q194.005 74.377 194.005 81.5066 Q194.005 88.6131 195.811 92.1779 Q197.639 95.7195 201.25 95.7195 Q204.885 95.7195 206.69 92.1779 Q208.519 88.6131 208.519 81.5066 Q208.519 74.377 206.69 70.8354 Q204.885 67.2706 201.25 67.2706 M201.25 63.5669 Q207.061 63.5669 210.116 68.1734 Q213.195 72.7567 213.195 81.5066 Q213.195 90.2334 210.116 94.8399 Q207.061 99.4232 201.25 99.4232 Q195.44 99.4232 192.362 94.8399 Q189.306 90.2334 189.306 81.5066 Q189.306 72.7567 192.362 68.1734 Q195.44 63.5669 201.25 63.5669 Z\" fill=\"#000000\" fill-rule=\"evenodd\" fill-opacity=\"1\" /><path clip-path=\"url(#clip040)\" d=\"M249.584 73.2891 L239.005 83.914 L249.584 94.4927 L246.829 97.2936 L236.204 86.6686 L225.579 97.2936 L222.848 94.4927 L233.403 83.914 L222.848 73.2891 L225.579 70.4882 L236.204 81.1131 L246.829 70.4882 L249.584 73.2891 Z\" fill=\"#000000\" fill-rule=\"evenodd\" fill-opacity=\"1\" /><path clip-path=\"url(#clip040)\" d=\"M261.945 94.8167 L269.583 94.8167 L269.583 68.4511 L261.273 70.1178 L261.273 65.8586 L269.537 64.1919 L274.213 64.1919 L274.213 94.8167 L281.852 94.8167 L281.852 98.7519 L261.945 98.7519 L261.945 94.8167 Z\" fill=\"#000000\" fill-rule=\"evenodd\" fill-opacity=\"1\" /><path clip-path=\"url(#clip040)\" d=\"M301.296 67.2706 Q297.685 67.2706 295.856 70.8354 Q294.051 74.377 294.051 81.5066 Q294.051 88.6131 295.856 92.1779 Q297.685 95.7195 301.296 95.7195 Q304.93 95.7195 306.736 92.1779 Q308.565 88.6131 308.565 81.5066 Q308.565 74.377 306.736 70.8354 Q304.93 67.2706 301.296 67.2706 M301.296 63.5669 Q307.106 63.5669 310.162 68.1734 Q313.241 72.7567 313.241 81.5066 Q313.241 90.2334 310.162 94.8399 Q307.106 99.4232 301.296 99.4232 Q295.486 99.4232 292.407 94.8399 Q289.352 90.2334 289.352 81.5066 Q289.352 72.7567 292.407 68.1734 Q295.486 63.5669 301.296 63.5669 Z\" fill=\"#000000\" fill-rule=\"evenodd\" fill-opacity=\"1\" /><path clip-path=\"url(#clip040)\" d=\"M323.265 55.7875 Q320.707 55.7875 319.203 57.5366 Q317.717 59.2857 317.717 62.3326 Q317.717 65.3606 319.203 67.1286 Q320.707 68.8777 323.265 68.8777 Q325.823 68.8777 327.309 67.1286 Q328.813 65.3606 328.813 62.3326 Q328.813 59.2857 327.309 57.5366 Q325.823 55.7875 323.265 55.7875 M330.807 43.8822 L330.807 47.3428 Q329.378 46.6657 327.911 46.3084 Q326.462 45.951 325.033 45.951 Q321.271 45.951 319.278 48.4901 Q317.303 51.0291 317.021 56.1636 Q318.131 54.5274 319.804 53.6622 Q321.478 52.7782 323.491 52.7782 Q327.723 52.7782 330.168 55.3549 Q332.631 57.9128 332.631 62.3326 Q332.631 66.6584 330.074 69.2727 Q327.516 71.8869 323.265 71.8869 Q318.394 71.8869 315.817 68.163 Q313.241 64.4202 313.241 57.3297 Q313.241 50.6718 316.4 46.7221 Q319.56 42.7537 324.883 42.7537 Q326.312 42.7537 327.76 43.0358 Q329.227 43.3179 330.807 43.8822 Z\" fill=\"#000000\" fill-rule=\"evenodd\" fill-opacity=\"1\" /><path clip-path=\"url(#clip040)\" d=\"M21.7677 760.786 L39.6235 760.786 L39.6235 752.702 Q39.6235 748.214 37.3 745.763 Q34.9765 743.312 30.6797 743.312 Q26.4147 743.312 24.0912 745.763 Q21.7677 748.214 21.7677 752.702 L21.7677 760.786 M16.4842 767.216 L16.4842 752.702 Q16.4842 744.713 20.1126 740.639 Q23.7092 736.533 30.6797 736.533 Q37.7138 736.533 41.3104 740.639 Q44.907 744.713 44.907 752.702 L44.907 760.786 L64.0042 760.786 L64.0042 767.216 L16.4842 767.216 Z\" fill=\"#000000\" fill-rule=\"evenodd\" fill-opacity=\"1\" /><path clip-path=\"url(#clip040)\" d=\"M46.0847 714.889 Q46.0847 721.987 47.7079 724.724 Q49.3312 727.462 53.2461 727.462 Q56.3653 727.462 58.2114 725.425 Q60.0256 723.356 60.0256 719.823 Q60.0256 714.953 56.5881 712.025 Q53.1188 709.065 47.3897 709.065 L46.0847 709.065 L46.0847 714.889 M43.6657 703.208 L64.0042 703.208 L64.0042 709.065 L58.5933 709.065 Q61.8398 711.07 63.3994 714.062 Q64.9272 717.054 64.9272 721.382 Q64.9272 726.857 61.8716 730.103 Q58.7843 733.318 53.6281 733.318 Q47.6125 733.318 44.5569 729.308 Q41.5014 725.266 41.5014 717.277 L41.5014 709.065 L40.9285 709.065 Q36.8862 709.065 34.6901 711.738 Q32.4621 714.38 32.4621 719.186 Q32.4621 722.242 33.1941 725.138 Q33.9262 728.035 35.3903 730.708 L29.9795 730.708 Q28.7381 727.494 28.1334 724.47 Q27.4968 721.446 27.4968 718.582 Q27.4968 710.847 31.5072 707.028 Q35.5176 703.208 43.6657 703.208 Z\" fill=\"#000000\" fill-rule=\"evenodd\" fill-opacity=\"1\" /><polyline clip-path=\"url(#clip042)\" style=\"stroke:#009af9; stroke-linecap:butt; stroke-linejoin:round; stroke-width:4; stroke-opacity:1; fill:none\" points=\"\n",
       "  424.786,86.1857 427.071,227.557 429.356,341.41 431.641,435.067 433.926,513.463 436.211,580.048 438.496,637.304 439.638,663.025 440.781,687.063 441.923,709.577 \n",
       "  443.066,730.707 448.348,813.619 453.63,878.188 458.912,929.896 464.194,972.236 469.476,1007.54 474.758,1037.44 480.04,1063.07 485.321,1085.3 495.885,1121.92 \n",
       "  506.449,1150.85 517.013,1174.28 527.577,1193.65 548.705,1223.78 569.833,1246.15 590.961,1263.41 612.089,1277.13 662.877,1300.89 713.665,1316.81 756.605,1326.67 \n",
       "  799.546,1334.38 892.837,1346.44 978.843,1354.08 1071.05,1360.08 1177.88,1365.24 1272.82,1368.75 1356.07,1371.26 1446.84,1373.53 1538.15,1375.46 1639.1,1377.25 \n",
       "  1735.16,1378.7 1835.03,1380 1919.1,1380.97 2021.75,1382.01 2118.23,1382.87 2272.81,1384.07 2296.6,1384.24 \n",
       "  \"/>\n",
       "<path clip-path=\"url(#clip040)\" d=\"\n",
       "M1876.44 196.789 L2286.62 196.789 L2286.62 93.1086 L1876.44 93.1086  Z\n",
       "  \" fill=\"#ffffff\" fill-rule=\"evenodd\" fill-opacity=\"1\"/>\n",
       "<polyline clip-path=\"url(#clip040)\" style=\"stroke:#000000; stroke-linecap:butt; stroke-linejoin:round; stroke-width:4; stroke-opacity:1; fill:none\" points=\"\n",
       "  1876.44,196.789 2286.62,196.789 2286.62,93.1086 1876.44,93.1086 1876.44,196.789 \n",
       "  \"/>\n",
       "<polyline clip-path=\"url(#clip040)\" style=\"stroke:#009af9; stroke-linecap:butt; stroke-linejoin:round; stroke-width:4; stroke-opacity:1; fill:none\" points=\"\n",
       "  1898.48,144.949 2030.76,144.949 \n",
       "  \"/>\n",
       "<path clip-path=\"url(#clip040)\" d=\"M2058.43 158.293 L2074.75 158.293 L2074.75 162.229 L2052.81 162.229 L2052.81 158.293 Q2055.47 155.539 2060.05 150.909 Q2064.66 146.256 2065.84 144.914 Q2068.08 142.391 2068.96 140.655 Q2069.87 138.895 2069.87 137.206 Q2069.87 134.451 2067.92 132.715 Q2066 130.979 2062.9 130.979 Q2060.7 130.979 2058.25 131.743 Q2055.81 132.507 2053.04 134.057 L2053.04 129.335 Q2055.86 128.201 2058.31 127.622 Q2060.77 127.044 2062.81 127.044 Q2068.18 127.044 2071.37 129.729 Q2074.56 132.414 2074.56 136.905 Q2074.56 139.034 2073.75 140.956 Q2072.97 142.854 2070.86 145.446 Q2070.28 146.118 2067.18 149.335 Q2064.08 152.53 2058.43 158.293 Z\" fill=\"#000000\" fill-rule=\"evenodd\" fill-opacity=\"1\" /><path clip-path=\"url(#clip040)\" d=\"M2084.7 161.511 L2084.7 157.252 Q2086.46 158.085 2088.27 158.525 Q2090.07 158.965 2091.81 158.965 Q2096.44 158.965 2098.87 155.863 Q2101.32 152.738 2101.67 146.395 Q2100.33 148.386 2098.27 149.451 Q2096.21 150.516 2093.71 150.516 Q2088.52 150.516 2085.49 147.391 Q2082.48 144.243 2082.48 138.803 Q2082.48 133.479 2085.63 130.261 Q2088.78 127.044 2094.01 127.044 Q2100 127.044 2103.15 131.65 Q2106.32 136.233 2106.32 144.983 Q2106.32 153.155 2102.43 158.039 Q2098.57 162.9 2092.02 162.9 Q2090.26 162.9 2088.45 162.553 Q2086.65 162.205 2084.7 161.511 M2094.01 146.858 Q2097.16 146.858 2098.99 144.706 Q2100.84 142.553 2100.84 138.803 Q2100.84 135.076 2098.99 132.923 Q2097.16 130.747 2094.01 130.747 Q2090.86 130.747 2089.01 132.923 Q2087.18 135.076 2087.18 138.803 Q2087.18 142.553 2089.01 144.706 Q2090.86 146.858 2094.01 146.858 Z\" fill=\"#000000\" fill-rule=\"evenodd\" fill-opacity=\"1\" /><path clip-path=\"url(#clip040)\" d=\"M2124.73 145.817 Q2121.39 145.817 2119.47 147.599 Q2117.57 149.381 2117.57 152.506 Q2117.57 155.631 2119.47 157.414 Q2121.39 159.196 2124.73 159.196 Q2128.06 159.196 2129.98 157.414 Q2131.9 155.608 2131.9 152.506 Q2131.9 149.381 2129.98 147.599 Q2128.08 145.817 2124.73 145.817 M2120.05 143.826 Q2117.04 143.085 2115.35 141.025 Q2113.68 138.965 2113.68 136.002 Q2113.68 131.858 2116.62 129.451 Q2119.59 127.044 2124.73 127.044 Q2129.89 127.044 2132.83 129.451 Q2135.77 131.858 2135.77 136.002 Q2135.77 138.965 2134.08 141.025 Q2132.41 143.085 2129.43 143.826 Q2132.81 144.613 2134.68 146.905 Q2136.58 149.196 2136.58 152.506 Q2136.58 157.53 2133.5 160.215 Q2130.44 162.9 2124.73 162.9 Q2119.01 162.9 2115.93 160.215 Q2112.87 157.53 2112.87 152.506 Q2112.87 149.196 2114.77 146.905 Q2116.67 144.613 2120.05 143.826 M2118.34 136.442 Q2118.34 139.127 2120 140.632 Q2121.69 142.136 2124.73 142.136 Q2127.74 142.136 2129.43 140.632 Q2131.14 139.127 2131.14 136.442 Q2131.14 133.757 2129.43 132.252 Q2127.74 130.747 2124.73 130.747 Q2121.69 130.747 2120 132.252 Q2118.34 133.757 2118.34 136.442 Z\" fill=\"#000000\" fill-rule=\"evenodd\" fill-opacity=\"1\" /><path clip-path=\"url(#clip040)\" d=\"M2144.89 156.349 L2149.77 156.349 L2149.77 162.229 L2144.89 162.229 L2144.89 156.349 Z\" fill=\"#000000\" fill-rule=\"evenodd\" fill-opacity=\"1\" /><path clip-path=\"url(#clip040)\" d=\"M2160.77 158.293 L2168.41 158.293 L2168.41 131.928 L2160.1 133.595 L2160.1 129.335 L2168.36 127.669 L2173.04 127.669 L2173.04 158.293 L2180.68 158.293 L2180.68 162.229 L2160.77 162.229 L2160.77 158.293 Z\" fill=\"#000000\" fill-rule=\"evenodd\" fill-opacity=\"1\" /><path clip-path=\"url(#clip040)\" d=\"M2190.17 127.669 L2208.52 127.669 L2208.52 131.604 L2194.45 131.604 L2194.45 140.076 Q2195.47 139.729 2196.49 139.567 Q2197.5 139.382 2198.52 139.382 Q2204.31 139.382 2207.69 142.553 Q2211.07 145.724 2211.07 151.141 Q2211.07 156.719 2207.6 159.821 Q2204.12 162.9 2197.8 162.9 Q2195.63 162.9 2193.36 162.53 Q2191.12 162.159 2188.71 161.418 L2188.71 156.719 Q2190.79 157.854 2193.01 158.409 Q2195.24 158.965 2197.71 158.965 Q2201.72 158.965 2204.05 156.858 Q2206.39 154.752 2206.39 151.141 Q2206.39 147.53 2204.05 145.423 Q2201.72 143.317 2197.71 143.317 Q2195.84 143.317 2193.96 143.733 Q2192.11 144.15 2190.17 145.03 L2190.17 127.669 Z\" fill=\"#000000\" fill-rule=\"evenodd\" fill-opacity=\"1\" /><path clip-path=\"url(#clip040)\" d=\"M2219.52 126.21 L2223.8 126.21 L2223.8 147.483 L2236.51 136.303 L2241.95 136.303 L2228.2 148.432 L2242.53 162.229 L2236.97 162.229 L2223.8 149.567 L2223.8 162.229 L2219.52 162.229 L2219.52 126.21 Z\" fill=\"#000000\" fill-rule=\"evenodd\" fill-opacity=\"1\" /></svg>\n"
      ]
     },
     "execution_count": 13,
     "metadata": {},
     "output_type": "execute_result"
    }
   ],
   "source": [
    "N=6.022E23\n",
    "T=298.15\n",
    "plot(V->Pᵢ(V,N,T),1E-3,1E-1,xlabel=\"m^3\",ylabel=\"Pa\",label=\"298.15k\")"
   ]
  },
  {
   "cell_type": "markdown",
   "id": "5e938470",
   "metadata": {},
   "source": [
    "Asi mismo, si uno quisiera definir la función para la presión de la ecuación de estado de Van der Waals:\n",
    "\n",
    "$(P+ \\frac{N^2 a}{V^2})(\\frac{V}{N}-b)=k_B T$      (1)\n",
    "\n",
    "uno puede despejar la presión $P^*=Pb^2/a$ de tal forma que obtiene:\n",
    "\n",
    "$P^*=\\frac{b^2Nk_B T}{a(V-Nb)}  - \\frac{N^2b^2}{V^2}$\n",
    "\n",
    "### Ejercicios\n",
    "\n",
    "(1) Definiendo $v'= V/Nb$ y $T'=bk_B T/ a$ tenemos que:\n",
    "\n",
    "...\n",
    "\n",
    "(2) Programar la ecuación resultante $P^*(v',T')$ de (1)\n",
    "\n",
    "(3)¿Qué valores son físicamente aceptables para $v'$ y para $T'$?\n",
    "\n",
    "(4) Grafique la presión contra el volumen para tres temperaturas, $T'=16/27$, $8/27$ y $4/27$ en un rango de $v'\\in[1.1:5]$. ¿Qué diferencias encuentran entre estas isotermas? Imagina que los resultados de estas isotermas son productos de un experimento pensado, narre lo que pasaría con cada isoterma al ir incrementando el volumen disponible por partícula.\n",
    "\n",
    "(5) Obtenga la $\\partial P^*/\\partial v'$, ¿cómo se relaciona esta cantidad con la compresibilidad isotérmica del sistema?\n",
    "\n",
    "(6) Encuentre los ceros de $\\partial P^*/\\partial v'=0$ de tal forma que consiga la función $T'_s(v')$.\n",
    "\n",
    "(7) Programe la función $T'_s(v')$.\n",
    "\n",
    "(8) Grafique la función $T'_s(v')$  en conjunto con las isotermas del ejercicio 4."
   ]
  },
  {
   "cell_type": "code",
   "execution_count": null,
   "id": "258ebe3e",
   "metadata": {},
   "outputs": [],
   "source": []
  }
 ],
 "metadata": {
  "@webio": {
   "lastCommId": null,
   "lastKernelId": null
  },
  "kernelspec": {
   "display_name": "Julia 1.6.2",
   "language": "julia",
   "name": "julia-1.6"
  },
  "language_info": {
   "file_extension": ".jl",
   "mimetype": "application/julia",
   "name": "julia",
   "version": "1.6.2"
  }
 },
 "nbformat": 4,
 "nbformat_minor": 5
}
